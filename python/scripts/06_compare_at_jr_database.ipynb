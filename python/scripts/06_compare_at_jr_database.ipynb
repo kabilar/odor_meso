{
 "cells": [
  {
   "cell_type": "code",
   "execution_count": null,
   "metadata": {},
   "outputs": [],
   "source": [
    "%matplotlib inline\n",
    "import os\n",
    "import datajoint as dj\n",
    "from matplotlib import pyplot\n",
    "import numpy as np\n",
    "import odor_meso.python.scripts.data_copy as data_copy\n",
    "\n",
    "dj.config['database.prefix'] = os.environ.get('DJ_PREFIX', '')\n",
    "\n",
    "# Instantiate virtual module connections to source (at-database) and destination (jr-database) databases\n",
    "pc = data_copy.PipelineCopy.get()"
   ]
  },
  {
   "cell_type": "code",
   "execution_count": null,
   "metadata": {},
   "outputs": [],
   "source": [
    "key_meso  = {'animal_id':124, 'session':2, 'scan_idx':1, 'field':1}"
   ]
  },
  {
   "cell_type": "code",
   "execution_count": null,
   "metadata": {},
   "outputs": [],
   "source": [
    "# Fetch from at-database\n",
    "\n",
    "average_image_src = (pc.src_vmods['meso'].SummaryImages.Average & key_meso).fetch1('average_image')\n",
    "\n",
    "# Calculate aspect ratio of pixels\n",
    "px_height, px_width, um_height, um_width = (pc.src_vmods['meso'].ScanInfo.Field & key_meso).fetch1('px_height','px_width','um_height','um_width')\n",
    "dx_height = um_height/px_height\n",
    "dx_width = um_width/px_width\n",
    "aspect_meso = dx_height/dx_width\n",
    "\n",
    "# Print image details\n",
    "print(np.nanmin(average_image_src), np.nanmax(average_image_src), np.shape(average_image_src), aspect_meso, dx_height, dx_width)\n",
    "\n",
    "# Plot images\n",
    "pyplot.figure(figsize = (10,10))\n",
    "pyplot.imshow(average_image_src, vmin=0, vmax=300, aspect=aspect_meso, extent=[0,um_width,um_height,0])"
   ]
  },
  {
   "cell_type": "code",
   "execution_count": null,
   "metadata": {},
   "outputs": [],
   "source": [
    "# Fetch from jr-database\n",
    "\n",
    "average_image_dst = (pc.dst_vmods['meso'].SummaryImages.Average & key_meso).fetch1('average_image')\n",
    "\n",
    "# Calculate aspect ratio of pixels\n",
    "px_height, px_width, um_height, um_width = (pc.dst_vmods['meso'].ScanInfo.Field & key_meso).fetch1('px_height','px_width','um_height','um_width')\n",
    "dx_height = um_height/px_height\n",
    "dx_width = um_width/px_width\n",
    "aspect_meso = dx_height/dx_width\n",
    "\n",
    "# Print image details\n",
    "print(np.nanmin(average_image_dst), np.nanmax(average_image_dst), np.shape(average_image_dst), aspect_meso, dx_height, dx_width)\n",
    "\n",
    "# Plot images\n",
    "pyplot.figure(figsize = (10,10))\n",
    "pyplot.imshow(average_image_dst, vmin=0, vmax=300, aspect=aspect_meso, extent=[0,um_width,um_height,0])"
   ]
  },
  {
   "cell_type": "code",
   "execution_count": null,
   "metadata": {},
   "outputs": [],
   "source": [
    "# Plot differences\n",
    "\n",
    "average_image_diff = average_image_dst-average_image_src\n",
    "print(np.nanmin(average_image_diff), np.nanmax(average_image_diff))\n",
    "\n",
    "pyplot.figure(figsize = (10,10))\n",
    "pyplot.imshow(average_image_diff, aspect=aspect_meso, extent=[0,um_width,um_height,0])"
   ]
  },
  {
   "cell_type": "code",
   "execution_count": null,
   "metadata": {},
   "outputs": [],
   "source": []
  }
 ],
 "metadata": {
  "kernelspec": {
   "display_name": "Python 3",
   "language": "python",
   "name": "python3"
  },
  "language_info": {
   "codemirror_mode": {
    "name": "ipython",
    "version": 3
   },
   "file_extension": ".py",
   "mimetype": "text/x-python",
   "name": "python",
   "nbconvert_exporter": "python",
   "pygments_lexer": "ipython3",
   "version": "3.6.8"
  }
 },
 "nbformat": 4,
 "nbformat_minor": 4
}
