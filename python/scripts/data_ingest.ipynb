{
 "cells": [
  {
   "cell_type": "code",
   "execution_count": 1,
   "metadata": {},
   "outputs": [],
   "source": [
    "import os\n",
    "import lzma\n",
    "import pickle\n",
    "from tqdm import tqdm\n",
    "import datajoint as dj"
   ]
  },
  {
   "cell_type": "markdown",
   "metadata": {},
   "source": [
    "# Define database prefix"
   ]
  },
  {
   "cell_type": "code",
   "execution_count": 2,
   "metadata": {},
   "outputs": [
    {
     "name": "stdout",
     "output_type": "stream",
     "text": [
      "Loading local settings from pipeline_config.json\n",
      "Connecting user1@host.docker.internal:3306\n"
     ]
    },
    {
     "name": "stderr",
     "output_type": "stream",
     "text": [
      "/usr/local/lib/python3.6/dist-packages/tensorflow/python/framework/dtypes.py:526: FutureWarning: Passing (type, 1) or '1type' as a synonym of type is deprecated; in a future version of numpy, it will be understood as (type, (1,)) / '(1,)type'.\n",
      "  _np_qint8 = np.dtype([(\"qint8\", np.int8, 1)])\n",
      "/usr/local/lib/python3.6/dist-packages/tensorflow/python/framework/dtypes.py:527: FutureWarning: Passing (type, 1) or '1type' as a synonym of type is deprecated; in a future version of numpy, it will be understood as (type, (1,)) / '(1,)type'.\n",
      "  _np_quint8 = np.dtype([(\"quint8\", np.uint8, 1)])\n",
      "/usr/local/lib/python3.6/dist-packages/tensorflow/python/framework/dtypes.py:528: FutureWarning: Passing (type, 1) or '1type' as a synonym of type is deprecated; in a future version of numpy, it will be understood as (type, (1,)) / '(1,)type'.\n",
      "  _np_qint16 = np.dtype([(\"qint16\", np.int16, 1)])\n",
      "/usr/local/lib/python3.6/dist-packages/tensorflow/python/framework/dtypes.py:529: FutureWarning: Passing (type, 1) or '1type' as a synonym of type is deprecated; in a future version of numpy, it will be understood as (type, (1,)) / '(1,)type'.\n",
      "  _np_quint16 = np.dtype([(\"quint16\", np.uint16, 1)])\n",
      "/usr/local/lib/python3.6/dist-packages/tensorflow/python/framework/dtypes.py:530: FutureWarning: Passing (type, 1) or '1type' as a synonym of type is deprecated; in a future version of numpy, it will be understood as (type, (1,)) / '(1,)type'.\n",
      "  _np_qint32 = np.dtype([(\"qint32\", np.int32, 1)])\n",
      "/usr/local/lib/python3.6/dist-packages/tensorflow/python/framework/dtypes.py:535: FutureWarning: Passing (type, 1) or '1type' as a synonym of type is deprecated; in a future version of numpy, it will be understood as (type, (1,)) / '(1,)type'.\n",
      "  np_resource = np.dtype([(\"resource\", np.ubyte, 1)])\n"
     ]
    },
    {
     "name": "stdout",
     "output_type": "stream",
     "text": [
      "DLC loaded in light mode; you cannot use the labeling GUI!\n",
      "DLC loaded in light mode; you cannot use the relabeling GUI!\n"
     ]
    },
    {
     "name": "stderr",
     "output_type": "stream",
     "text": [
      "/usr/local/lib/python3.6/dist-packages/statsmodels/tools/_testing.py:19: FutureWarning: pandas.util.testing is deprecated. Use the functions in the public API at pandas.testing instead.\n",
      "  import pandas.util.testing as tm\n"
     ]
    },
    {
     "name": "stdout",
     "output_type": "stream",
     "text": [
      "DataJoint Module Installed =  True\n"
     ]
    }
   ],
   "source": [
    "dj.config['database.prefix']='kabilar_'\n",
    "from pipeline import meso, stack, treadmill, pupil, odor, mice, experiment, shared"
   ]
  },
  {
   "cell_type": "markdown",
   "metadata": {},
   "source": [
    "# Define animal_id data to be ingested"
   ]
  },
  {
   "cell_type": "code",
   "execution_count": 3,
   "metadata": {},
   "outputs": [],
   "source": [
    "animal_id = 1571"
   ]
  },
  {
   "cell_type": "code",
   "execution_count": null,
   "metadata": {},
   "outputs": [],
   "source": [
    "animal_id  = 14864"
   ]
  },
  {
   "cell_type": "markdown",
   "metadata": {},
   "source": [
    "# Function to insert metadata"
   ]
  },
  {
   "cell_type": "code",
   "execution_count": 4,
   "metadata": {},
   "outputs": [],
   "source": [
    "directory = f'{os.environ.get(\"INGESTION_STORAGE\")}/animal_id_{animal_id}/'\n",
    "\n",
    "def insert_data(filename, table, skip_duplicates, ignore_extra_fields, allow_direct_insert):\n",
    "    with lzma.open(directory + filename, \"rb\") as f:\n",
    "        loaded_data = pickle.load(f)\n",
    "        f.close()\n",
    "\n",
    "#     print(loaded_data)\n",
    "\n",
    "    for i in tqdm(range(len(loaded_data))):\n",
    "        table.insert1(loaded_data[i],\n",
    "                      skip_duplicates=skip_duplicates,\n",
    "                      ignore_extra_fields=ignore_extra_fields,\n",
    "                      allow_direct_insert=allow_direct_insert)"
   ]
  },
  {
   "cell_type": "markdown",
   "metadata": {},
   "source": [
    "# Mice pipeline"
   ]
  },
  {
   "cell_type": "code",
   "execution_count": 5,
   "metadata": {},
   "outputs": [
    {
     "name": "stderr",
     "output_type": "stream",
     "text": [
      "100%|██████████| 1/1 [00:00<00:00, 101.68it/s]\n"
     ]
    }
   ],
   "source": [
    "insert_data(filename='mice.Mice.xz', \n",
    "            table=mice.Mice, \n",
    "            skip_duplicates=False, \n",
    "            ignore_extra_fields=False, \n",
    "            allow_direct_insert=False)"
   ]
  },
  {
   "cell_type": "markdown",
   "metadata": {},
   "source": [
    "# Shared pipeline"
   ]
  },
  {
   "cell_type": "code",
   "execution_count": 6,
   "metadata": {},
   "outputs": [
    {
     "name": "stderr",
     "output_type": "stream",
     "text": [
      "100%|██████████| 3/3 [00:00<00:00, 18.94it/s]\n"
     ]
    }
   ],
   "source": [
    "insert_data(filename='shared.PipelineVersion.xz', \n",
    "            table=shared.PipelineVersion, \n",
    "            skip_duplicates=True, \n",
    "            ignore_extra_fields=False, \n",
    "            allow_direct_insert=False)"
   ]
  },
  {
   "cell_type": "markdown",
   "metadata": {},
   "source": [
    "# Experiment pipeline"
   ]
  },
  {
   "cell_type": "code",
   "execution_count": 7,
   "metadata": {},
   "outputs": [
    {
     "name": "stderr",
     "output_type": "stream",
     "text": [
      "100%|██████████| 12/12 [00:00<00:00, 54.58it/s]\n",
      "100%|██████████| 4/4 [00:00<00:00, 126.77it/s]\n",
      "100%|██████████| 6/6 [00:00<00:00, 72.56it/s]\n",
      "100%|██████████| 12/12 [00:00<00:00, 96.94it/s]\n",
      "100%|██████████| 1/1 [00:00<00:00, 99.85it/s]\n",
      "100%|██████████| 1/1 [00:00<00:00, 91.37it/s]\n",
      "100%|██████████| 1/1 [00:00<00:00, 111.58it/s]\n",
      "100%|██████████| 1/1 [00:00<00:00, 77.49it/s]\n",
      "100%|██████████| 1/1 [00:00<00:00, 106.57it/s]\n",
      "100%|██████████| 7/7 [00:00<00:00, 95.62it/s]\n"
     ]
    }
   ],
   "source": [
    "insert_data('experiment.Rig.xz', experiment.Rig, True, False, False)\n",
    "insert_data('experiment.Lens.xz', experiment.Lens, True, False, False)\n",
    "insert_data('experiment.Aim.xz', experiment.Aim, True, False, False)\n",
    "insert_data('experiment.Software.xz', experiment.Software, True, False, False)\n",
    "insert_data('experiment.Session.xz', experiment.Session, False, True, False)\n",
    "insert_data('experiment.Scan.xz', experiment.Scan, False, False, False)\n",
    "insert_data('experiment.Scan.EyeVideo.xz', experiment.Scan.EyeVideo, False, False, False)\n",
    "insert_data('experiment.Scan.BehaviorFile.xz', experiment.Scan.BehaviorFile, False, False, False)\n",
    "insert_data('experiment.Scan.Laser.xz', experiment.Scan.Laser, False, False, False)\n",
    "insert_data('experiment.TreadmillSpecs.xz', experiment.TreadmillSpecs, False, False, False)"
   ]
  },
  {
   "cell_type": "code",
   "execution_count": 9,
   "metadata": {},
   "outputs": [],
   "source": [
    "experiment.ExperimentalIdentifier.insert(experiment.Scan.fetch('KEY'),skip_duplicates=True)"
   ]
  },
  {
   "cell_type": "markdown",
   "metadata": {},
   "source": [
    "# Meso pipeline"
   ]
  },
  {
   "cell_type": "code",
   "execution_count": 10,
   "metadata": {},
   "outputs": [
    {
     "name": "stderr",
     "output_type": "stream",
     "text": [
      "100%|██████████| 2/2 [00:00<00:00, 106.85it/s]\n"
     ]
    }
   ],
   "source": [
    "insert_data(filename='meso.Version.xz', \n",
    "            table=meso.Version, \n",
    "            skip_duplicates=False, \n",
    "            ignore_extra_fields=False, \n",
    "            allow_direct_insert=False)"
   ]
  },
  {
   "cell_type": "code",
   "execution_count": 11,
   "metadata": {},
   "outputs": [
    {
     "name": "stdout",
     "output_type": "stream",
     "text": [
      "Reading header...\n"
     ]
    }
   ],
   "source": [
    "meso.ScanInfo.populate()"
   ]
  },
  {
   "cell_type": "code",
   "execution_count": 12,
   "metadata": {},
   "outputs": [
    {
     "name": "stdout",
     "output_type": "stream",
     "text": [
      "Computing quality metrics for field 1\n",
      "Using 3 processes\n",
      "Tue Feb 23 06:23:35 2021 Processing frames: slice(0, 1997, None)\n",
      "Tue Feb 23 06:23:51 2021 Processing frames: slice(1997, 3994, None)\n",
      "Tue Feb 23 06:24:07 2021 Processing frames: slice(3994, 5991, None)\n",
      "Tue Feb 23 06:24:23 2021 Processing frames: slice(5991, 7988, None)\n",
      "Tue Feb 23 06:24:41 2021 Processing frames: slice(7988, 9985, None)\n",
      "Tue Feb 23 06:25:00 2021 Processing frames: slice(9985, 11982, None)\n",
      "Tue Feb 23 06:25:18 2021 Processing frames: slice(11982, 13979, None)\n",
      "Tue Feb 23 06:25:40 2021 Processing frames: slice(13979, 15976, None)\n",
      "Tue Feb 23 06:25:58 2021 Processing frames: slice(15976, 17973, None)\n",
      "Tue Feb 23 06:26:16 2021 Processing frames: slice(17973, 19970, None)\n",
      "Tue Feb 23 06:26:32 2021 Processing frames: slice(19970, 21967, None)\n",
      "Tue Feb 23 06:26:52 2021 Processing frames: slice(21967, 23964, None)\n",
      "Tue Feb 23 06:27:12 2021 Processing frames: slice(23964, 25961, None)\n",
      "Tue Feb 23 06:27:33 2021 Processing frames: slice(25961, 27958, None)\n",
      "Tue Feb 23 06:27:51 2021 Processing frames: slice(27958, 29955, None)\n",
      "Tue Feb 23 06:28:09 2021 Processing frames: slice(29955, 31952, None)\n",
      "Tue Feb 23 06:28:28 2021 Processing frames: slice(31952, 33949, None)\n",
      "Tue Feb 23 06:28:48 2021 Processing frames: slice(33949, 35946, None)\n",
      "Tue Feb 23 06:29:14 2021 Processing frames: slice(35946, 37943, None)\n",
      "Tue Feb 23 06:29:39 2021 Processing frames: slice(39940, 40000, None)\n",
      "Tue Feb 23 06:29:42 2021 Processing frames: slice(37943, 39940, None)\n",
      "Ignored exception: name 'hash_key_values' is not defined\n",
      "Computing quality metrics for field 2\n",
      "Using 3 processes\n",
      "Tue Feb 23 06:33:57 2021 Processing frames: slice(0, 1864, None)\n",
      "Tue Feb 23 06:34:26 2021 Processing frames: slice(1864, 3728, None)\n",
      "Tue Feb 23 06:34:53 2021 Processing frames: slice(3728, 5592, None)\n",
      "Tue Feb 23 06:35:38 2021 Processing frames: slice(5592, 7456, None)\n",
      "Tue Feb 23 06:36:26 2021 Processing frames: slice(7456, 9320, None)\n",
      "Tue Feb 23 06:37:12 2021 Processing frames: slice(9320, 11184, None)\n",
      "Tue Feb 23 06:37:54 2021 Processing frames: slice(11184, 13048, None)\n",
      "Tue Feb 23 06:38:41 2021 Processing frames: slice(13048, 14912, None)\n",
      "Tue Feb 23 06:39:15 2021 Processing frames: slice(14912, 16776, None)\n",
      "Tue Feb 23 06:39:54 2021 Processing frames: slice(16776, 18640, None)\n",
      "Tue Feb 23 06:40:38 2021 Processing frames: slice(18640, 20504, None)\n",
      "Tue Feb 23 06:41:24 2021 Processing frames: slice(20504, 22368, None)\n",
      "Tue Feb 23 06:42:05 2021 Processing frames: slice(22368, 24232, None)\n",
      "Tue Feb 23 06:42:49 2021 Processing frames: slice(24232, 26096, None)\n",
      "Tue Feb 23 06:43:30 2021 Processing frames: slice(26096, 27960, None)\n",
      "Tue Feb 23 06:44:09 2021 Processing frames: slice(27960, 29824, None)\n",
      "Tue Feb 23 06:44:55 2021 Processing frames: slice(29824, 31688, None)\n",
      "Tue Feb 23 06:45:37 2021 Processing frames: slice(31688, 33552, None)\n",
      "Tue Feb 23 06:46:26 2021 Processing frames: slice(33552, 35416, None)\n",
      "Tue Feb 23 06:47:11 2021 Processing frames: slice(35416, 37280, None)\n",
      "Tue Feb 23 06:47:45 2021 Processing frames: slice(37280, 39144, None)\n",
      "Tue Feb 23 06:48:00 2021 Processing frames: slice(39144, 40000, None)\n",
      "Ignored exception: name 'hash_key_values' is not defined\n",
      "Computing quality metrics for field 3\n",
      "Using 3 processes\n",
      "Tue Feb 23 06:51:37 2021 Processing frames: slice(0, 1997, None)\n",
      "Tue Feb 23 06:52:13 2021 Processing frames: slice(1997, 3994, None)\n",
      "Tue Feb 23 06:52:46 2021 Processing frames: slice(3994, 5991, None)\n",
      "Tue Feb 23 06:53:23 2021 Processing frames: slice(5991, 7988, None)\n",
      "Tue Feb 23 06:54:07 2021 Processing frames: slice(7988, 9985, None)\n",
      "Tue Feb 23 06:54:47 2021 Processing frames: slice(9985, 11982, None)\n",
      "Tue Feb 23 06:55:31 2021 Processing frames: slice(11982, 13979, None)\n",
      "Tue Feb 23 06:56:07 2021 Processing frames: slice(13979, 15976, None)\n",
      "Tue Feb 23 06:56:38 2021 Processing frames: slice(15976, 17973, None)\n",
      "Tue Feb 23 06:57:12 2021 Processing frames: slice(17973, 19970, None)\n",
      "Tue Feb 23 06:57:57 2021 Processing frames: slice(19970, 21967, None)\n",
      "Tue Feb 23 06:58:39 2021 Processing frames: slice(21967, 23964, None)\n",
      "Tue Feb 23 06:59:16 2021 Processing frames: slice(23964, 25961, None)\n",
      "Tue Feb 23 07:00:01 2021 Processing frames: slice(25961, 27958, None)\n",
      "Tue Feb 23 07:00:39 2021 Processing frames: slice(27958, 29955, None)\n",
      "Tue Feb 23 07:01:16 2021 Processing frames: slice(29955, 31952, None)\n",
      "Tue Feb 23 07:02:01 2021 Processing frames: slice(31952, 33949, None)\n",
      "Tue Feb 23 07:02:39 2021 Processing frames: slice(33949, 35946, None)\n",
      "Tue Feb 23 07:03:06 2021 Processing frames: slice(35946, 37943, None)\n",
      "Tue Feb 23 07:03:30 2021 Processing frames: slice(37943, 39940, None)\n",
      "Tue Feb 23 07:03:31 2021 Processing frames: slice(39940, 40000, None)\n",
      "Ignored exception: name 'hash_key_values' is not defined\n"
     ]
    }
   ],
   "source": [
    "dj.config[\"enable_python_native_blobs\"] = True\n",
    "meso.Quality.populate()"
   ]
  },
  {
   "cell_type": "code",
   "execution_count": 13,
   "metadata": {},
   "outputs": [
    {
     "name": "stderr",
     "output_type": "stream",
     "text": [
      "  0%|          | 0/3 [00:00<?, ?it/s]\n"
     ]
    },
    {
     "ename": "DuplicateError",
     "evalue": "(\"Duplicate entry '1571-1-1-1' for key 'PRIMARY'\", 'To ignore duplicate entries in insert, set skip_duplicates=True')",
     "output_type": "error",
     "traceback": [
      "\u001b[0;31m---------------------------------------------------------------------------\u001b[0m",
      "\u001b[0;31mDuplicateError\u001b[0m                            Traceback (most recent call last)",
      "\u001b[0;32m<ipython-input-13-72fa5e13f625>\u001b[0m in \u001b[0;36m<module>\u001b[0;34m\u001b[0m\n\u001b[0;32m----> 1\u001b[0;31m \u001b[0minsert_data\u001b[0m\u001b[0;34m(\u001b[0m\u001b[0;34m'meso.CorrectionChannel.xz'\u001b[0m\u001b[0;34m,\u001b[0m \u001b[0mmeso\u001b[0m\u001b[0;34m.\u001b[0m\u001b[0mCorrectionChannel\u001b[0m\u001b[0;34m,\u001b[0m \u001b[0;32mFalse\u001b[0m\u001b[0;34m,\u001b[0m \u001b[0;32mFalse\u001b[0m\u001b[0;34m,\u001b[0m \u001b[0;32mFalse\u001b[0m\u001b[0;34m)\u001b[0m\u001b[0;34m\u001b[0m\u001b[0;34m\u001b[0m\u001b[0m\n\u001b[0m",
      "\u001b[0;32m<ipython-input-4-4c36da292b18>\u001b[0m in \u001b[0;36minsert_data\u001b[0;34m(filename, table, skip_duplicates, ignore_extra_fields, allow_direct_insert)\u001b[0m\n\u001b[1;32m     12\u001b[0m                       \u001b[0mskip_duplicates\u001b[0m\u001b[0;34m=\u001b[0m\u001b[0mskip_duplicates\u001b[0m\u001b[0;34m,\u001b[0m\u001b[0;34m\u001b[0m\u001b[0;34m\u001b[0m\u001b[0m\n\u001b[1;32m     13\u001b[0m                       \u001b[0mignore_extra_fields\u001b[0m\u001b[0;34m=\u001b[0m\u001b[0mignore_extra_fields\u001b[0m\u001b[0;34m,\u001b[0m\u001b[0;34m\u001b[0m\u001b[0;34m\u001b[0m\u001b[0m\n\u001b[0;32m---> 14\u001b[0;31m                       allow_direct_insert=allow_direct_insert)\n\u001b[0m",
      "\u001b[0;32m/usr/local/lib/python3.6/dist-packages/datajoint/table.py\u001b[0m in \u001b[0;36minsert1\u001b[0;34m(self, row, **kwargs)\u001b[0m\n\u001b[1;32m    212\u001b[0m         \u001b[0mFor\u001b[0m \u001b[0mkwargs\u001b[0m\u001b[0;34m,\u001b[0m \u001b[0msee\u001b[0m \u001b[0minsert\u001b[0m\u001b[0;34m(\u001b[0m\u001b[0;34m)\u001b[0m\u001b[0;34m\u001b[0m\u001b[0;34m\u001b[0m\u001b[0m\n\u001b[1;32m    213\u001b[0m         \"\"\"\n\u001b[0;32m--> 214\u001b[0;31m         \u001b[0mself\u001b[0m\u001b[0;34m.\u001b[0m\u001b[0minsert\u001b[0m\u001b[0;34m(\u001b[0m\u001b[0;34m(\u001b[0m\u001b[0mrow\u001b[0m\u001b[0;34m,\u001b[0m\u001b[0;34m)\u001b[0m\u001b[0;34m,\u001b[0m \u001b[0;34m**\u001b[0m\u001b[0mkwargs\u001b[0m\u001b[0;34m)\u001b[0m\u001b[0;34m\u001b[0m\u001b[0;34m\u001b[0m\u001b[0m\n\u001b[0m\u001b[1;32m    215\u001b[0m \u001b[0;34m\u001b[0m\u001b[0m\n\u001b[1;32m    216\u001b[0m     \u001b[0;32mdef\u001b[0m \u001b[0minsert\u001b[0m\u001b[0;34m(\u001b[0m\u001b[0mself\u001b[0m\u001b[0;34m,\u001b[0m \u001b[0mrows\u001b[0m\u001b[0;34m,\u001b[0m \u001b[0mreplace\u001b[0m\u001b[0;34m=\u001b[0m\u001b[0;32mFalse\u001b[0m\u001b[0;34m,\u001b[0m \u001b[0mskip_duplicates\u001b[0m\u001b[0;34m=\u001b[0m\u001b[0;32mFalse\u001b[0m\u001b[0;34m,\u001b[0m \u001b[0mignore_extra_fields\u001b[0m\u001b[0;34m=\u001b[0m\u001b[0;32mFalse\u001b[0m\u001b[0;34m,\u001b[0m \u001b[0mallow_direct_insert\u001b[0m\u001b[0;34m=\u001b[0m\u001b[0;32mNone\u001b[0m\u001b[0;34m)\u001b[0m\u001b[0;34m:\u001b[0m\u001b[0;34m\u001b[0m\u001b[0;34m\u001b[0m\u001b[0m\n",
      "\u001b[0;32m/usr/local/lib/python3.6/dist-packages/datajoint/table.py\u001b[0m in \u001b[0;36minsert\u001b[0;34m(self, rows, replace, skip_duplicates, ignore_extra_fields, allow_direct_insert)\u001b[0m\n\u001b[1;32m    387\u001b[0m                 \u001b[0;32mraise\u001b[0m \u001b[0merr\u001b[0m\u001b[0;34m.\u001b[0m\u001b[0msuggest\u001b[0m\u001b[0;34m(\u001b[0m\u001b[0;34m'To ignore extra fields in insert, set ignore_extra_fields=True'\u001b[0m\u001b[0;34m)\u001b[0m \u001b[0;32mfrom\u001b[0m \u001b[0;32mNone\u001b[0m\u001b[0;34m\u001b[0m\u001b[0;34m\u001b[0m\u001b[0m\n\u001b[1;32m    388\u001b[0m             \u001b[0;32mexcept\u001b[0m \u001b[0mDuplicateError\u001b[0m \u001b[0;32mas\u001b[0m \u001b[0merr\u001b[0m\u001b[0;34m:\u001b[0m\u001b[0;34m\u001b[0m\u001b[0;34m\u001b[0m\u001b[0m\n\u001b[0;32m--> 389\u001b[0;31m                 \u001b[0;32mraise\u001b[0m \u001b[0merr\u001b[0m\u001b[0;34m.\u001b[0m\u001b[0msuggest\u001b[0m\u001b[0;34m(\u001b[0m\u001b[0;34m'To ignore duplicate entries in insert, set skip_duplicates=True'\u001b[0m\u001b[0;34m)\u001b[0m \u001b[0;32mfrom\u001b[0m \u001b[0;32mNone\u001b[0m\u001b[0;34m\u001b[0m\u001b[0;34m\u001b[0m\u001b[0m\n\u001b[0m\u001b[1;32m    390\u001b[0m \u001b[0;34m\u001b[0m\u001b[0m\n\u001b[1;32m    391\u001b[0m     \u001b[0;32mdef\u001b[0m \u001b[0mdelete_quick\u001b[0m\u001b[0;34m(\u001b[0m\u001b[0mself\u001b[0m\u001b[0;34m,\u001b[0m \u001b[0mget_count\u001b[0m\u001b[0;34m=\u001b[0m\u001b[0;32mFalse\u001b[0m\u001b[0;34m)\u001b[0m\u001b[0;34m:\u001b[0m\u001b[0;34m\u001b[0m\u001b[0;34m\u001b[0m\u001b[0m\n",
      "\u001b[0;31mDuplicateError\u001b[0m: (\"Duplicate entry '1571-1-1-1' for key 'PRIMARY'\", 'To ignore duplicate entries in insert, set skip_duplicates=True')"
     ]
    }
   ],
   "source": [
    "insert_data('meso.CorrectionChannel.xz', meso.CorrectionChannel, False, False, False)"
   ]
  },
  {
   "cell_type": "code",
   "execution_count": 14,
   "metadata": {},
   "outputs": [
    {
     "name": "stderr",
     "output_type": "stream",
     "text": [
      "/usr/local/lib/python3.6/dist-packages/datajoint/connection.py:219: UserWarning: MySQL server has gone away. Reconnecting to the server.\n",
      "  warnings.warn(\"MySQL server has gone away. Reconnecting to the server.\")\n"
     ]
    },
    {
     "name": "stdout",
     "output_type": "stream",
     "text": [
      "Using 3 processes\n",
      "Tue Feb 23 07:16:22 2021 Processing frames: slice(0, 3121, None)\n",
      "Tue Feb 23 07:17:08 2021 Processing frames: slice(3121, 6242, None)\n",
      "Tue Feb 23 07:18:10 2021 Processing frames: slice(6242, 9363, None)\n",
      "Tue Feb 23 07:19:14 2021 Processing frames: slice(9363, 12484, None)\n",
      "Tue Feb 23 07:20:32 2021 Processing frames: slice(12484, 15605, None)\n",
      "Tue Feb 23 07:21:32 2021 Processing frames: slice(15605, 18726, None)\n",
      "Tue Feb 23 07:22:36 2021 Processing frames: slice(18726, 21847, None)\n",
      "Tue Feb 23 07:23:51 2021 Processing frames: slice(21847, 24968, None)\n",
      "Tue Feb 23 07:25:15 2021 Processing frames: slice(24968, 28089, None)\n",
      "Tue Feb 23 07:26:10 2021 Processing frames: slice(28089, 31210, None)\n",
      "Tue Feb 23 07:27:21 2021 Processing frames: slice(31210, 34331, None)\n",
      "Tue Feb 23 07:28:30 2021 Processing frames: slice(34331, 37452, None)\n",
      "Tue Feb 23 07:29:22 2021 Processing frames: slice(37452, 40000, None)\n",
      "Using 3 processes\n",
      "Tue Feb 23 07:31:33 2021 Processing frames: slice(0, 2913, None)\n",
      "Tue Feb 23 07:32:06 2021 Processing frames: slice(2913, 5826, None)\n",
      "Tue Feb 23 07:32:59 2021 Processing frames: slice(5826, 8739, None)\n",
      "Tue Feb 23 07:33:55 2021 Processing frames: slice(8739, 11652, None)\n",
      "Tue Feb 23 07:34:52 2021 Processing frames: slice(11652, 14565, None)\n",
      "Tue Feb 23 07:35:39 2021 Processing frames: slice(14565, 17478, None)\n",
      "Tue Feb 23 07:36:34 2021 Processing frames: slice(17478, 20391, None)\n",
      "Tue Feb 23 07:37:51 2021 Processing frames: slice(20391, 23304, None)\n",
      "Tue Feb 23 07:38:57 2021 Processing frames: slice(23304, 26217, None)\n",
      "Tue Feb 23 07:39:50 2021 Processing frames: slice(26217, 29130, None)\n",
      "Tue Feb 23 07:40:36 2021 Processing frames: slice(29130, 32043, None)\n",
      "Tue Feb 23 07:41:52 2021 Processing frames: slice(32043, 34956, None)\n",
      "Tue Feb 23 07:42:55 2021 Processing frames: slice(34956, 37869, None)\n",
      "Tue Feb 23 07:43:36 2021 Processing frames: slice(37869, 40000, None)\n",
      "Using 3 processes\n",
      "Tue Feb 23 07:45:21 2021 Processing frames: slice(0, 3121, None)\n",
      "Tue Feb 23 07:45:49 2021 Processing frames: slice(3121, 6242, None)\n",
      "Tue Feb 23 07:46:43 2021 Processing frames: slice(6242, 9363, None)\n",
      "Tue Feb 23 07:47:32 2021 Processing frames: slice(9363, 12484, None)\n",
      "Tue Feb 23 07:48:34 2021 Processing frames: slice(12484, 15605, None)\n",
      "Tue Feb 23 07:49:28 2021 Processing frames: slice(15605, 18726, None)\n",
      "Tue Feb 23 07:50:23 2021 Processing frames: slice(18726, 21847, None)\n",
      "Tue Feb 23 07:51:14 2021 Processing frames: slice(21847, 24968, None)\n",
      "Tue Feb 23 07:52:11 2021 Processing frames: slice(24968, 28089, None)\n",
      "Tue Feb 23 07:52:59 2021 Processing frames: slice(28089, 31210, None)\n",
      "Tue Feb 23 07:54:15 2021 Processing frames: slice(31210, 34331, None)\n",
      "Tue Feb 23 07:55:16 2021 Processing frames: slice(34331, 37452, None)\n",
      "Tue Feb 23 07:56:02 2021 Processing frames: slice(37452, 40000, None)\n",
      "Using 3 processes\n",
      "Tue Feb 23 07:56:51 2021 Processing frames: slice(0, 1997, None)\n",
      "Tue Feb 23 07:57:15 2021 Processing frames: slice(1997, 3994, None)\n",
      "Tue Feb 23 07:57:29 2021 Processing frames: slice(3994, 5991, None)\n",
      "Tue Feb 23 07:57:56 2021 Processing frames: slice(5991, 7988, None)\n",
      "Tue Feb 23 07:58:26 2021 Processing frames: slice(7988, 9985, None)\n",
      "Tue Feb 23 07:58:53 2021 Processing frames: slice(9985, 11982, None)\n",
      "Tue Feb 23 07:59:18 2021 Processing frames: slice(11982, 13979, None)\n",
      "Tue Feb 23 07:59:47 2021 Processing frames: slice(13979, 15976, None)\n",
      "Tue Feb 23 08:00:07 2021 Processing frames: slice(15976, 17973, None)\n",
      "Tue Feb 23 08:00:28 2021 Processing frames: slice(17973, 19970, None)\n",
      "Tue Feb 23 08:01:00 2021 Processing frames: slice(19970, 21967, None)\n",
      "Tue Feb 23 08:01:16 2021 Processing frames: slice(21967, 23964, None)\n",
      "Tue Feb 23 08:01:34 2021 Processing frames: slice(23964, 25961, None)\n",
      "Tue Feb 23 08:02:02 2021 Processing frames: slice(25961, 27958, None)\n",
      "Tue Feb 23 08:02:16 2021 Processing frames: slice(27958, 29955, None)\n",
      "Tue Feb 23 08:02:34 2021 Processing frames: slice(29955, 31952, None)\n",
      "Tue Feb 23 08:03:12 2021 Processing frames: slice(31952, 33949, None)\n",
      "Tue Feb 23 08:03:31 2021 Processing frames: slice(33949, 35946, None)\n",
      "Tue Feb 23 08:03:57 2021 Processing frames: slice(35946, 37943, None)\n",
      "Tue Feb 23 08:04:10 2021 Processing frames: slice(37943, 39940, None)\n",
      "Tue Feb 23 08:04:10 2021 Processing frames: slice(39940, 40000, None)\n",
      "Ignored exception: name 'hash_key_values' is not defined\n",
      "Using 3 processes\n",
      "Tue Feb 23 08:05:10 2021 Processing frames: slice(0, 1864, None)\n",
      "Tue Feb 23 08:05:34 2021 Processing frames: slice(1864, 3728, None)\n",
      "Tue Feb 23 08:05:47 2021 Processing frames: slice(3728, 5592, None)\n",
      "Tue Feb 23 08:06:09 2021 Processing frames: slice(5592, 7456, None)\n",
      "Tue Feb 23 08:06:49 2021 Processing frames: slice(7456, 9320, None)\n",
      "Tue Feb 23 08:07:10 2021 Processing frames: slice(9320, 11184, None)\n",
      "Tue Feb 23 08:07:31 2021 Processing frames: slice(11184, 13048, None)\n",
      "Tue Feb 23 08:08:00 2021 Processing frames: slice(13048, 14912, None)\n",
      "Tue Feb 23 08:08:20 2021 Processing frames: slice(14912, 16776, None)\n",
      "Tue Feb 23 08:08:45 2021 Processing frames: slice(16776, 18640, None)\n",
      "Tue Feb 23 08:09:06 2021 Processing frames: slice(18640, 20504, None)\n",
      "Tue Feb 23 08:09:37 2021 Processing frames: slice(20504, 22368, None)\n",
      "Tue Feb 23 08:09:52 2021 Processing frames: slice(22368, 24232, None)\n",
      "Tue Feb 23 08:10:15 2021 Processing frames: slice(24232, 26096, None)\n",
      "Tue Feb 23 08:10:44 2021 Processing frames: slice(26096, 27960, None)\n",
      "Tue Feb 23 08:10:58 2021 Processing frames: slice(27960, 29824, None)\n",
      "Tue Feb 23 08:11:23 2021 Processing frames: slice(29824, 31688, None)\n",
      "Tue Feb 23 08:11:52 2021 Processing frames: slice(31688, 33552, None)\n",
      "Tue Feb 23 08:12:18 2021 Processing frames: slice(33552, 35416, None)\n",
      "Tue Feb 23 08:12:43 2021 Processing frames: slice(35416, 37280, None)\n",
      "Tue Feb 23 08:13:00 2021 Processing frames: slice(37280, 39144, None)\n",
      "Tue Feb 23 08:13:05 2021 Processing frames: slice(39144, 40000, None)\n",
      "Ignored exception: name 'hash_key_values' is not defined\n",
      "Using 3 processes\n",
      "Tue Feb 23 08:14:13 2021 Processing frames: slice(0, 1997, None)\n",
      "Tue Feb 23 08:14:32 2021 Processing frames: slice(1997, 3994, None)\n",
      "Tue Feb 23 08:14:46 2021 Processing frames: slice(3994, 5991, None)\n",
      "Tue Feb 23 08:15:16 2021 Processing frames: slice(5991, 7988, None)\n",
      "Tue Feb 23 08:15:47 2021 Processing frames: slice(7988, 9985, None)\n",
      "Tue Feb 23 08:16:10 2021 Processing frames: slice(9985, 11982, None)\n",
      "Tue Feb 23 08:16:34 2021 Processing frames: slice(11982, 13979, None)\n",
      "Tue Feb 23 08:17:06 2021 Processing frames: slice(13979, 15976, None)\n",
      "Tue Feb 23 08:17:27 2021 Processing frames: slice(15976, 17973, None)\n",
      "Tue Feb 23 08:17:58 2021 Processing frames: slice(17973, 19970, None)\n",
      "Tue Feb 23 08:18:34 2021 Processing frames: slice(19970, 21967, None)\n",
      "Tue Feb 23 08:18:53 2021 Processing frames: slice(21967, 23964, None)\n",
      "Tue Feb 23 08:19:23 2021 Processing frames: slice(23964, 25961, None)\n",
      "Tue Feb 23 08:19:55 2021 Processing frames: slice(25961, 27958, None)\n",
      "Tue Feb 23 08:20:11 2021 Processing frames: slice(27958, 29955, None)\n",
      "Tue Feb 23 08:20:45 2021 Processing frames: slice(29955, 31952, None)\n",
      "Tue Feb 23 08:21:09 2021 Processing frames: slice(31952, 33949, None)\n",
      "Tue Feb 23 08:21:39 2021 Processing frames: slice(33949, 35946, None)\n",
      "Tue Feb 23 08:22:07 2021 Processing frames: slice(35946, 37943, None)\n",
      "Tue Feb 23 08:22:22 2021 Processing frames: slice(37943, 39940, None)\n",
      "Tue Feb 23 08:22:22 2021 Processing frames: slice(39940, 40000, None)\n",
      "Ignored exception: name 'hash_key_values' is not defined\n"
     ]
    }
   ],
   "source": [
    "meso.RasterCorrection.populate()\n",
    "meso.MotionCorrection.populate()\n",
    "meso.SummaryImages.populate()"
   ]
  },
  {
   "cell_type": "code",
   "execution_count": 15,
   "metadata": {},
   "outputs": [
    {
     "name": "stderr",
     "output_type": "stream",
     "text": [
      "100%|██████████| 3/3 [00:00<00:00, 13.85it/s]\n",
      "100%|██████████| 3/3 [00:02<00:00,  1.07it/s]\n",
      "100%|██████████| 3/3 [00:00<00:00, 10.81it/s]\n",
      "100%|██████████| 183/183 [00:03<00:00, 57.11it/s]\n"
     ]
    }
   ],
   "source": [
    "insert_data('meso.SegmentationTask.xz', meso.SegmentationTask, False, False, False)\n",
    "insert_data('meso.Segmentation.xz', meso.Segmentation, False, False, True)\n",
    "insert_data('meso.Segmentation.Manual.xz', meso.Segmentation.Manual, False, False, True)\n",
    "insert_data('meso.Segmentation.Mask.xz', meso.Segmentation.Mask, False, False, True)"
   ]
  },
  {
   "cell_type": "code",
   "execution_count": 5,
   "metadata": {},
   "outputs": [
    {
     "name": "stdout",
     "output_type": "stream",
     "text": [
      "Warning: Skipping {'animal_id': 1571, 'session': 1, 'scan_idx': 1, 'pipe_version': 1, 'field': 1, 'channel': 1, 'segmentation_method': 1, 'classification_method': 2}. Automatic classification works only with somatic scans\n",
      "Warning: Skipping {'animal_id': 1571, 'session': 1, 'scan_idx': 1, 'pipe_version': 1, 'field': 2, 'channel': 1, 'segmentation_method': 1, 'classification_method': 2}. Automatic classification works only with somatic scans\n",
      "Warning: Skipping {'animal_id': 1571, 'session': 1, 'scan_idx': 1, 'pipe_version': 1, 'field': 3, 'channel': 1, 'segmentation_method': 1, 'classification_method': 2}. Automatic classification works only with somatic scans\n",
      "Bokeh could not be loaded. Either it is not installed or you are not running within a notebook\n",
      "numba not found\n"
     ]
    },
    {
     "name": "stderr",
     "output_type": "stream",
     "text": [
      "Using TensorFlow backend.\n"
     ]
    },
    {
     "name": "stdout",
     "output_type": "stream",
     "text": [
      "Creating activity traces for {'animal_id': 1571, 'session': 1, 'scan_idx': 1, 'pipe_version': 1, 'field': 1, 'channel': 1, 'segmentation_method': 1, 'spike_method': 2}\n",
      "Creating activity traces for {'animal_id': 1571, 'session': 1, 'scan_idx': 1, 'pipe_version': 1, 'field': 2, 'channel': 1, 'segmentation_method': 1, 'spike_method': 2}\n",
      "Creating activity traces for {'animal_id': 1571, 'session': 1, 'scan_idx': 1, 'pipe_version': 1, 'field': 3, 'channel': 1, 'segmentation_method': 1, 'spike_method': 2}\n",
      "Creating activity traces for {'animal_id': 1571, 'session': 1, 'scan_idx': 1, 'pipe_version': 1, 'field': 1, 'channel': 1, 'segmentation_method': 1, 'spike_method': 3}\n"
     ]
    },
    {
     "name": "stderr",
     "output_type": "stream",
     "text": [
      "/usr/local/lib/python3.6/dist-packages/c2s/c2s.py:509: UserWarning: The default model expects calcium traces sampled at 100 Hz.\n",
      "  warn('The default model expects calcium traces sampled at 100 Hz.')\n",
      "/usr/local/lib/python3.6/dist-packages/c2s/c2s.py:509: UserWarning: The default model expects calcium traces sampled at 100 Hz.\n",
      "  warn('The default model expects calcium traces sampled at 100 Hz.')\n",
      "/usr/local/lib/python3.6/dist-packages/c2s/c2s.py:509: UserWarning: The default model expects calcium traces sampled at 100 Hz.\n",
      "  warn('The default model expects calcium traces sampled at 100 Hz.')\n",
      "/usr/local/lib/python3.6/dist-packages/c2s/c2s.py:509: UserWarning: The default model expects calcium traces sampled at 100 Hz.\n",
      "  warn('The default model expects calcium traces sampled at 100 Hz.')\n",
      "/usr/local/lib/python3.6/dist-packages/c2s/c2s.py:509: UserWarning: The default model expects calcium traces sampled at 100 Hz.\n",
      "  warn('The default model expects calcium traces sampled at 100 Hz.')\n",
      "/usr/local/lib/python3.6/dist-packages/c2s/c2s.py:509: UserWarning: The default model expects calcium traces sampled at 100 Hz.\n",
      "  warn('The default model expects calcium traces sampled at 100 Hz.')\n",
      "/usr/local/lib/python3.6/dist-packages/c2s/c2s.py:509: UserWarning: The default model expects calcium traces sampled at 100 Hz.\n",
      "  warn('The default model expects calcium traces sampled at 100 Hz.')\n",
      "/usr/local/lib/python3.6/dist-packages/c2s/c2s.py:509: UserWarning: The default model expects calcium traces sampled at 100 Hz.\n",
      "  warn('The default model expects calcium traces sampled at 100 Hz.')\n",
      "/usr/local/lib/python3.6/dist-packages/c2s/c2s.py:509: UserWarning: The default model expects calcium traces sampled at 100 Hz.\n",
      "  warn('The default model expects calcium traces sampled at 100 Hz.')\n",
      "/usr/local/lib/python3.6/dist-packages/c2s/c2s.py:509: UserWarning: The default model expects calcium traces sampled at 100 Hz.\n",
      "  warn('The default model expects calcium traces sampled at 100 Hz.')\n",
      "/usr/local/lib/python3.6/dist-packages/c2s/c2s.py:509: UserWarning: The default model expects calcium traces sampled at 100 Hz.\n",
      "  warn('The default model expects calcium traces sampled at 100 Hz.')\n",
      "/usr/local/lib/python3.6/dist-packages/c2s/c2s.py:509: UserWarning: The default model expects calcium traces sampled at 100 Hz.\n",
      "  warn('The default model expects calcium traces sampled at 100 Hz.')\n",
      "/usr/local/lib/python3.6/dist-packages/c2s/c2s.py:509: UserWarning: The default model expects calcium traces sampled at 100 Hz.\n",
      "  warn('The default model expects calcium traces sampled at 100 Hz.')\n",
      "/usr/local/lib/python3.6/dist-packages/c2s/c2s.py:509: UserWarning: The default model expects calcium traces sampled at 100 Hz.\n",
      "  warn('The default model expects calcium traces sampled at 100 Hz.')\n",
      "/usr/local/lib/python3.6/dist-packages/c2s/c2s.py:509: UserWarning: The default model expects calcium traces sampled at 100 Hz.\n",
      "  warn('The default model expects calcium traces sampled at 100 Hz.')\n",
      "/usr/local/lib/python3.6/dist-packages/c2s/c2s.py:509: UserWarning: The default model expects calcium traces sampled at 100 Hz.\n",
      "  warn('The default model expects calcium traces sampled at 100 Hz.')\n",
      "/usr/local/lib/python3.6/dist-packages/c2s/c2s.py:509: UserWarning: The default model expects calcium traces sampled at 100 Hz.\n",
      "  warn('The default model expects calcium traces sampled at 100 Hz.')\n",
      "/usr/local/lib/python3.6/dist-packages/c2s/c2s.py:509: UserWarning: The default model expects calcium traces sampled at 100 Hz.\n",
      "  warn('The default model expects calcium traces sampled at 100 Hz.')\n",
      "/usr/local/lib/python3.6/dist-packages/c2s/c2s.py:509: UserWarning: The default model expects calcium traces sampled at 100 Hz.\n",
      "  warn('The default model expects calcium traces sampled at 100 Hz.')\n",
      "/usr/local/lib/python3.6/dist-packages/c2s/c2s.py:509: UserWarning: The default model expects calcium traces sampled at 100 Hz.\n",
      "  warn('The default model expects calcium traces sampled at 100 Hz.')\n",
      "/usr/local/lib/python3.6/dist-packages/c2s/c2s.py:509: UserWarning: The default model expects calcium traces sampled at 100 Hz.\n",
      "  warn('The default model expects calcium traces sampled at 100 Hz.')\n",
      "/usr/local/lib/python3.6/dist-packages/c2s/c2s.py:509: UserWarning: The default model expects calcium traces sampled at 100 Hz.\n",
      "  warn('The default model expects calcium traces sampled at 100 Hz.')\n",
      "/usr/local/lib/python3.6/dist-packages/c2s/c2s.py:509: UserWarning: The default model expects calcium traces sampled at 100 Hz.\n",
      "  warn('The default model expects calcium traces sampled at 100 Hz.')\n",
      "/usr/local/lib/python3.6/dist-packages/c2s/c2s.py:509: UserWarning: The default model expects calcium traces sampled at 100 Hz.\n",
      "  warn('The default model expects calcium traces sampled at 100 Hz.')\n",
      "/usr/local/lib/python3.6/dist-packages/c2s/c2s.py:509: UserWarning: The default model expects calcium traces sampled at 100 Hz.\n",
      "  warn('The default model expects calcium traces sampled at 100 Hz.')\n",
      "/usr/local/lib/python3.6/dist-packages/c2s/c2s.py:509: UserWarning: The default model expects calcium traces sampled at 100 Hz.\n",
      "  warn('The default model expects calcium traces sampled at 100 Hz.')\n",
      "/usr/local/lib/python3.6/dist-packages/c2s/c2s.py:509: UserWarning: The default model expects calcium traces sampled at 100 Hz.\n",
      "  warn('The default model expects calcium traces sampled at 100 Hz.')\n",
      "/usr/local/lib/python3.6/dist-packages/c2s/c2s.py:509: UserWarning: The default model expects calcium traces sampled at 100 Hz.\n",
      "  warn('The default model expects calcium traces sampled at 100 Hz.')\n",
      "/usr/local/lib/python3.6/dist-packages/c2s/c2s.py:509: UserWarning: The default model expects calcium traces sampled at 100 Hz.\n",
      "  warn('The default model expects calcium traces sampled at 100 Hz.')\n",
      "/usr/local/lib/python3.6/dist-packages/c2s/c2s.py:509: UserWarning: The default model expects calcium traces sampled at 100 Hz.\n",
      "  warn('The default model expects calcium traces sampled at 100 Hz.')\n",
      "/usr/local/lib/python3.6/dist-packages/c2s/c2s.py:509: UserWarning: The default model expects calcium traces sampled at 100 Hz.\n",
      "  warn('The default model expects calcium traces sampled at 100 Hz.')\n",
      "/usr/local/lib/python3.6/dist-packages/c2s/c2s.py:509: UserWarning: The default model expects calcium traces sampled at 100 Hz.\n",
      "  warn('The default model expects calcium traces sampled at 100 Hz.')\n",
      "/usr/local/lib/python3.6/dist-packages/c2s/c2s.py:509: UserWarning: The default model expects calcium traces sampled at 100 Hz.\n",
      "  warn('The default model expects calcium traces sampled at 100 Hz.')\n",
      "/usr/local/lib/python3.6/dist-packages/c2s/c2s.py:509: UserWarning: The default model expects calcium traces sampled at 100 Hz.\n",
      "  warn('The default model expects calcium traces sampled at 100 Hz.')\n",
      "/usr/local/lib/python3.6/dist-packages/c2s/c2s.py:509: UserWarning: The default model expects calcium traces sampled at 100 Hz.\n",
      "  warn('The default model expects calcium traces sampled at 100 Hz.')\n",
      "/usr/local/lib/python3.6/dist-packages/c2s/c2s.py:509: UserWarning: The default model expects calcium traces sampled at 100 Hz.\n",
      "  warn('The default model expects calcium traces sampled at 100 Hz.')\n",
      "/usr/local/lib/python3.6/dist-packages/c2s/c2s.py:509: UserWarning: The default model expects calcium traces sampled at 100 Hz.\n",
      "  warn('The default model expects calcium traces sampled at 100 Hz.')\n",
      "/usr/local/lib/python3.6/dist-packages/c2s/c2s.py:509: UserWarning: The default model expects calcium traces sampled at 100 Hz.\n",
      "  warn('The default model expects calcium traces sampled at 100 Hz.')\n",
      "/usr/local/lib/python3.6/dist-packages/c2s/c2s.py:509: UserWarning: The default model expects calcium traces sampled at 100 Hz.\n",
      "  warn('The default model expects calcium traces sampled at 100 Hz.')\n",
      "/usr/local/lib/python3.6/dist-packages/c2s/c2s.py:509: UserWarning: The default model expects calcium traces sampled at 100 Hz.\n",
      "  warn('The default model expects calcium traces sampled at 100 Hz.')\n",
      "/usr/local/lib/python3.6/dist-packages/c2s/c2s.py:509: UserWarning: The default model expects calcium traces sampled at 100 Hz.\n",
      "  warn('The default model expects calcium traces sampled at 100 Hz.')\n",
      "/usr/local/lib/python3.6/dist-packages/c2s/c2s.py:509: UserWarning: The default model expects calcium traces sampled at 100 Hz.\n",
      "  warn('The default model expects calcium traces sampled at 100 Hz.')\n",
      "/usr/local/lib/python3.6/dist-packages/c2s/c2s.py:509: UserWarning: The default model expects calcium traces sampled at 100 Hz.\n",
      "  warn('The default model expects calcium traces sampled at 100 Hz.')\n",
      "/usr/local/lib/python3.6/dist-packages/c2s/c2s.py:509: UserWarning: The default model expects calcium traces sampled at 100 Hz.\n",
      "  warn('The default model expects calcium traces sampled at 100 Hz.')\n",
      "/usr/local/lib/python3.6/dist-packages/c2s/c2s.py:509: UserWarning: The default model expects calcium traces sampled at 100 Hz.\n",
      "  warn('The default model expects calcium traces sampled at 100 Hz.')\n",
      "/usr/local/lib/python3.6/dist-packages/c2s/c2s.py:509: UserWarning: The default model expects calcium traces sampled at 100 Hz.\n",
      "  warn('The default model expects calcium traces sampled at 100 Hz.')\n",
      "/usr/local/lib/python3.6/dist-packages/c2s/c2s.py:509: UserWarning: The default model expects calcium traces sampled at 100 Hz.\n",
      "  warn('The default model expects calcium traces sampled at 100 Hz.')\n",
      "/usr/local/lib/python3.6/dist-packages/c2s/c2s.py:509: UserWarning: The default model expects calcium traces sampled at 100 Hz.\n",
      "  warn('The default model expects calcium traces sampled at 100 Hz.')\n",
      "/usr/local/lib/python3.6/dist-packages/c2s/c2s.py:509: UserWarning: The default model expects calcium traces sampled at 100 Hz.\n",
      "  warn('The default model expects calcium traces sampled at 100 Hz.')\n",
      "/usr/local/lib/python3.6/dist-packages/c2s/c2s.py:509: UserWarning: The default model expects calcium traces sampled at 100 Hz.\n",
      "  warn('The default model expects calcium traces sampled at 100 Hz.')\n",
      "/usr/local/lib/python3.6/dist-packages/c2s/c2s.py:509: UserWarning: The default model expects calcium traces sampled at 100 Hz.\n",
      "  warn('The default model expects calcium traces sampled at 100 Hz.')\n",
      "/usr/local/lib/python3.6/dist-packages/c2s/c2s.py:509: UserWarning: The default model expects calcium traces sampled at 100 Hz.\n",
      "  warn('The default model expects calcium traces sampled at 100 Hz.')\n",
      "/usr/local/lib/python3.6/dist-packages/c2s/c2s.py:509: UserWarning: The default model expects calcium traces sampled at 100 Hz.\n",
      "  warn('The default model expects calcium traces sampled at 100 Hz.')\n",
      "/usr/local/lib/python3.6/dist-packages/c2s/c2s.py:509: UserWarning: The default model expects calcium traces sampled at 100 Hz.\n",
      "  warn('The default model expects calcium traces sampled at 100 Hz.')\n",
      "/usr/local/lib/python3.6/dist-packages/c2s/c2s.py:509: UserWarning: The default model expects calcium traces sampled at 100 Hz.\n",
      "  warn('The default model expects calcium traces sampled at 100 Hz.')\n",
      "/usr/local/lib/python3.6/dist-packages/c2s/c2s.py:509: UserWarning: The default model expects calcium traces sampled at 100 Hz.\n",
      "  warn('The default model expects calcium traces sampled at 100 Hz.')\n",
      "/usr/local/lib/python3.6/dist-packages/c2s/c2s.py:509: UserWarning: The default model expects calcium traces sampled at 100 Hz.\n",
      "  warn('The default model expects calcium traces sampled at 100 Hz.')\n",
      "/usr/local/lib/python3.6/dist-packages/c2s/c2s.py:509: UserWarning: The default model expects calcium traces sampled at 100 Hz.\n",
      "  warn('The default model expects calcium traces sampled at 100 Hz.')\n",
      "/usr/local/lib/python3.6/dist-packages/c2s/c2s.py:509: UserWarning: The default model expects calcium traces sampled at 100 Hz.\n",
      "  warn('The default model expects calcium traces sampled at 100 Hz.')\n",
      "/usr/local/lib/python3.6/dist-packages/c2s/c2s.py:509: UserWarning: The default model expects calcium traces sampled at 100 Hz.\n",
      "  warn('The default model expects calcium traces sampled at 100 Hz.')\n",
      "/usr/local/lib/python3.6/dist-packages/c2s/c2s.py:509: UserWarning: The default model expects calcium traces sampled at 100 Hz.\n",
      "  warn('The default model expects calcium traces sampled at 100 Hz.')\n",
      "/usr/local/lib/python3.6/dist-packages/c2s/c2s.py:509: UserWarning: The default model expects calcium traces sampled at 100 Hz.\n",
      "  warn('The default model expects calcium traces sampled at 100 Hz.')\n",
      "/usr/local/lib/python3.6/dist-packages/c2s/c2s.py:509: UserWarning: The default model expects calcium traces sampled at 100 Hz.\n",
      "  warn('The default model expects calcium traces sampled at 100 Hz.')\n",
      "/usr/local/lib/python3.6/dist-packages/c2s/c2s.py:509: UserWarning: The default model expects calcium traces sampled at 100 Hz.\n",
      "  warn('The default model expects calcium traces sampled at 100 Hz.')\n",
      "/usr/local/lib/python3.6/dist-packages/c2s/c2s.py:509: UserWarning: The default model expects calcium traces sampled at 100 Hz.\n",
      "  warn('The default model expects calcium traces sampled at 100 Hz.')\n",
      "/usr/local/lib/python3.6/dist-packages/c2s/c2s.py:509: UserWarning: The default model expects calcium traces sampled at 100 Hz.\n",
      "  warn('The default model expects calcium traces sampled at 100 Hz.')\n",
      "/usr/local/lib/python3.6/dist-packages/c2s/c2s.py:509: UserWarning: The default model expects calcium traces sampled at 100 Hz.\n",
      "  warn('The default model expects calcium traces sampled at 100 Hz.')\n",
      "/usr/local/lib/python3.6/dist-packages/c2s/c2s.py:509: UserWarning: The default model expects calcium traces sampled at 100 Hz.\n",
      "  warn('The default model expects calcium traces sampled at 100 Hz.')\n",
      "/usr/local/lib/python3.6/dist-packages/c2s/c2s.py:509: UserWarning: The default model expects calcium traces sampled at 100 Hz.\n",
      "  warn('The default model expects calcium traces sampled at 100 Hz.')\n",
      "/usr/local/lib/python3.6/dist-packages/c2s/c2s.py:509: UserWarning: The default model expects calcium traces sampled at 100 Hz.\n",
      "  warn('The default model expects calcium traces sampled at 100 Hz.')\n",
      "/usr/local/lib/python3.6/dist-packages/c2s/c2s.py:509: UserWarning: The default model expects calcium traces sampled at 100 Hz.\n",
      "  warn('The default model expects calcium traces sampled at 100 Hz.')\n",
      "/usr/local/lib/python3.6/dist-packages/c2s/c2s.py:509: UserWarning: The default model expects calcium traces sampled at 100 Hz.\n",
      "  warn('The default model expects calcium traces sampled at 100 Hz.')\n",
      "/usr/local/lib/python3.6/dist-packages/c2s/c2s.py:509: UserWarning: The default model expects calcium traces sampled at 100 Hz.\n",
      "  warn('The default model expects calcium traces sampled at 100 Hz.')\n",
      "/usr/local/lib/python3.6/dist-packages/c2s/c2s.py:509: UserWarning: The default model expects calcium traces sampled at 100 Hz.\n",
      "  warn('The default model expects calcium traces sampled at 100 Hz.')\n",
      "/usr/local/lib/python3.6/dist-packages/c2s/c2s.py:509: UserWarning: The default model expects calcium traces sampled at 100 Hz.\n",
      "  warn('The default model expects calcium traces sampled at 100 Hz.')\n",
      "/usr/local/lib/python3.6/dist-packages/c2s/c2s.py:509: UserWarning: The default model expects calcium traces sampled at 100 Hz.\n",
      "  warn('The default model expects calcium traces sampled at 100 Hz.')\n",
      "/usr/local/lib/python3.6/dist-packages/c2s/c2s.py:509: UserWarning: The default model expects calcium traces sampled at 100 Hz.\n",
      "  warn('The default model expects calcium traces sampled at 100 Hz.')\n",
      "/usr/local/lib/python3.6/dist-packages/c2s/c2s.py:509: UserWarning: The default model expects calcium traces sampled at 100 Hz.\n",
      "  warn('The default model expects calcium traces sampled at 100 Hz.')\n",
      "/usr/local/lib/python3.6/dist-packages/c2s/c2s.py:509: UserWarning: The default model expects calcium traces sampled at 100 Hz.\n",
      "  warn('The default model expects calcium traces sampled at 100 Hz.')\n",
      "/usr/local/lib/python3.6/dist-packages/c2s/c2s.py:509: UserWarning: The default model expects calcium traces sampled at 100 Hz.\n",
      "  warn('The default model expects calcium traces sampled at 100 Hz.')\n"
     ]
    },
    {
     "name": "stdout",
     "output_type": "stream",
     "text": [
      "Creating activity traces for {'animal_id': 1571, 'session': 1, 'scan_idx': 1, 'pipe_version': 1, 'field': 2, 'channel': 1, 'segmentation_method': 1, 'spike_method': 3}\n"
     ]
    },
    {
     "name": "stderr",
     "output_type": "stream",
     "text": [
      "/usr/local/lib/python3.6/dist-packages/c2s/c2s.py:509: UserWarning: The default model expects calcium traces sampled at 100 Hz.\n",
      "  warn('The default model expects calcium traces sampled at 100 Hz.')\n",
      "/usr/local/lib/python3.6/dist-packages/c2s/c2s.py:509: UserWarning: The default model expects calcium traces sampled at 100 Hz.\n",
      "  warn('The default model expects calcium traces sampled at 100 Hz.')\n",
      "/usr/local/lib/python3.6/dist-packages/c2s/c2s.py:509: UserWarning: The default model expects calcium traces sampled at 100 Hz.\n",
      "  warn('The default model expects calcium traces sampled at 100 Hz.')\n",
      "/usr/local/lib/python3.6/dist-packages/c2s/c2s.py:509: UserWarning: The default model expects calcium traces sampled at 100 Hz.\n",
      "  warn('The default model expects calcium traces sampled at 100 Hz.')\n",
      "/usr/local/lib/python3.6/dist-packages/c2s/c2s.py:509: UserWarning: The default model expects calcium traces sampled at 100 Hz.\n",
      "  warn('The default model expects calcium traces sampled at 100 Hz.')\n",
      "/usr/local/lib/python3.6/dist-packages/c2s/c2s.py:509: UserWarning: The default model expects calcium traces sampled at 100 Hz.\n",
      "  warn('The default model expects calcium traces sampled at 100 Hz.')\n",
      "/usr/local/lib/python3.6/dist-packages/c2s/c2s.py:509: UserWarning: The default model expects calcium traces sampled at 100 Hz.\n",
      "  warn('The default model expects calcium traces sampled at 100 Hz.')\n",
      "/usr/local/lib/python3.6/dist-packages/c2s/c2s.py:509: UserWarning: The default model expects calcium traces sampled at 100 Hz.\n",
      "  warn('The default model expects calcium traces sampled at 100 Hz.')\n",
      "/usr/local/lib/python3.6/dist-packages/c2s/c2s.py:509: UserWarning: The default model expects calcium traces sampled at 100 Hz.\n",
      "  warn('The default model expects calcium traces sampled at 100 Hz.')\n",
      "/usr/local/lib/python3.6/dist-packages/c2s/c2s.py:509: UserWarning: The default model expects calcium traces sampled at 100 Hz.\n",
      "  warn('The default model expects calcium traces sampled at 100 Hz.')\n",
      "/usr/local/lib/python3.6/dist-packages/c2s/c2s.py:509: UserWarning: The default model expects calcium traces sampled at 100 Hz.\n",
      "  warn('The default model expects calcium traces sampled at 100 Hz.')\n",
      "/usr/local/lib/python3.6/dist-packages/c2s/c2s.py:509: UserWarning: The default model expects calcium traces sampled at 100 Hz.\n",
      "  warn('The default model expects calcium traces sampled at 100 Hz.')\n",
      "/usr/local/lib/python3.6/dist-packages/c2s/c2s.py:509: UserWarning: The default model expects calcium traces sampled at 100 Hz.\n",
      "  warn('The default model expects calcium traces sampled at 100 Hz.')\n",
      "/usr/local/lib/python3.6/dist-packages/c2s/c2s.py:509: UserWarning: The default model expects calcium traces sampled at 100 Hz.\n",
      "  warn('The default model expects calcium traces sampled at 100 Hz.')\n",
      "/usr/local/lib/python3.6/dist-packages/c2s/c2s.py:509: UserWarning: The default model expects calcium traces sampled at 100 Hz.\n",
      "  warn('The default model expects calcium traces sampled at 100 Hz.')\n",
      "/usr/local/lib/python3.6/dist-packages/c2s/c2s.py:509: UserWarning: The default model expects calcium traces sampled at 100 Hz.\n",
      "  warn('The default model expects calcium traces sampled at 100 Hz.')\n",
      "/usr/local/lib/python3.6/dist-packages/c2s/c2s.py:509: UserWarning: The default model expects calcium traces sampled at 100 Hz.\n",
      "  warn('The default model expects calcium traces sampled at 100 Hz.')\n",
      "/usr/local/lib/python3.6/dist-packages/c2s/c2s.py:509: UserWarning: The default model expects calcium traces sampled at 100 Hz.\n",
      "  warn('The default model expects calcium traces sampled at 100 Hz.')\n",
      "/usr/local/lib/python3.6/dist-packages/c2s/c2s.py:509: UserWarning: The default model expects calcium traces sampled at 100 Hz.\n",
      "  warn('The default model expects calcium traces sampled at 100 Hz.')\n",
      "/usr/local/lib/python3.6/dist-packages/c2s/c2s.py:509: UserWarning: The default model expects calcium traces sampled at 100 Hz.\n",
      "  warn('The default model expects calcium traces sampled at 100 Hz.')\n",
      "/usr/local/lib/python3.6/dist-packages/c2s/c2s.py:509: UserWarning: The default model expects calcium traces sampled at 100 Hz.\n",
      "  warn('The default model expects calcium traces sampled at 100 Hz.')\n",
      "/usr/local/lib/python3.6/dist-packages/c2s/c2s.py:509: UserWarning: The default model expects calcium traces sampled at 100 Hz.\n",
      "  warn('The default model expects calcium traces sampled at 100 Hz.')\n",
      "/usr/local/lib/python3.6/dist-packages/c2s/c2s.py:509: UserWarning: The default model expects calcium traces sampled at 100 Hz.\n",
      "  warn('The default model expects calcium traces sampled at 100 Hz.')\n",
      "/usr/local/lib/python3.6/dist-packages/c2s/c2s.py:509: UserWarning: The default model expects calcium traces sampled at 100 Hz.\n",
      "  warn('The default model expects calcium traces sampled at 100 Hz.')\n",
      "/usr/local/lib/python3.6/dist-packages/c2s/c2s.py:509: UserWarning: The default model expects calcium traces sampled at 100 Hz.\n",
      "  warn('The default model expects calcium traces sampled at 100 Hz.')\n",
      "/usr/local/lib/python3.6/dist-packages/c2s/c2s.py:509: UserWarning: The default model expects calcium traces sampled at 100 Hz.\n",
      "  warn('The default model expects calcium traces sampled at 100 Hz.')\n",
      "/usr/local/lib/python3.6/dist-packages/c2s/c2s.py:509: UserWarning: The default model expects calcium traces sampled at 100 Hz.\n",
      "  warn('The default model expects calcium traces sampled at 100 Hz.')\n",
      "/usr/local/lib/python3.6/dist-packages/c2s/c2s.py:509: UserWarning: The default model expects calcium traces sampled at 100 Hz.\n",
      "  warn('The default model expects calcium traces sampled at 100 Hz.')\n",
      "/usr/local/lib/python3.6/dist-packages/c2s/c2s.py:509: UserWarning: The default model expects calcium traces sampled at 100 Hz.\n",
      "  warn('The default model expects calcium traces sampled at 100 Hz.')\n",
      "/usr/local/lib/python3.6/dist-packages/c2s/c2s.py:509: UserWarning: The default model expects calcium traces sampled at 100 Hz.\n",
      "  warn('The default model expects calcium traces sampled at 100 Hz.')\n",
      "/usr/local/lib/python3.6/dist-packages/c2s/c2s.py:509: UserWarning: The default model expects calcium traces sampled at 100 Hz.\n",
      "  warn('The default model expects calcium traces sampled at 100 Hz.')\n",
      "/usr/local/lib/python3.6/dist-packages/c2s/c2s.py:509: UserWarning: The default model expects calcium traces sampled at 100 Hz.\n",
      "  warn('The default model expects calcium traces sampled at 100 Hz.')\n",
      "/usr/local/lib/python3.6/dist-packages/c2s/c2s.py:509: UserWarning: The default model expects calcium traces sampled at 100 Hz.\n",
      "  warn('The default model expects calcium traces sampled at 100 Hz.')\n",
      "/usr/local/lib/python3.6/dist-packages/c2s/c2s.py:509: UserWarning: The default model expects calcium traces sampled at 100 Hz.\n",
      "  warn('The default model expects calcium traces sampled at 100 Hz.')\n",
      "/usr/local/lib/python3.6/dist-packages/c2s/c2s.py:509: UserWarning: The default model expects calcium traces sampled at 100 Hz.\n",
      "  warn('The default model expects calcium traces sampled at 100 Hz.')\n",
      "/usr/local/lib/python3.6/dist-packages/c2s/c2s.py:509: UserWarning: The default model expects calcium traces sampled at 100 Hz.\n",
      "  warn('The default model expects calcium traces sampled at 100 Hz.')\n",
      "/usr/local/lib/python3.6/dist-packages/c2s/c2s.py:509: UserWarning: The default model expects calcium traces sampled at 100 Hz.\n",
      "  warn('The default model expects calcium traces sampled at 100 Hz.')\n",
      "/usr/local/lib/python3.6/dist-packages/c2s/c2s.py:509: UserWarning: The default model expects calcium traces sampled at 100 Hz.\n",
      "  warn('The default model expects calcium traces sampled at 100 Hz.')\n",
      "/usr/local/lib/python3.6/dist-packages/c2s/c2s.py:509: UserWarning: The default model expects calcium traces sampled at 100 Hz.\n",
      "  warn('The default model expects calcium traces sampled at 100 Hz.')\n",
      "/usr/local/lib/python3.6/dist-packages/c2s/c2s.py:509: UserWarning: The default model expects calcium traces sampled at 100 Hz.\n",
      "  warn('The default model expects calcium traces sampled at 100 Hz.')\n",
      "/usr/local/lib/python3.6/dist-packages/c2s/c2s.py:509: UserWarning: The default model expects calcium traces sampled at 100 Hz.\n",
      "  warn('The default model expects calcium traces sampled at 100 Hz.')\n",
      "/usr/local/lib/python3.6/dist-packages/c2s/c2s.py:509: UserWarning: The default model expects calcium traces sampled at 100 Hz.\n",
      "  warn('The default model expects calcium traces sampled at 100 Hz.')\n",
      "/usr/local/lib/python3.6/dist-packages/c2s/c2s.py:509: UserWarning: The default model expects calcium traces sampled at 100 Hz.\n",
      "  warn('The default model expects calcium traces sampled at 100 Hz.')\n",
      "/usr/local/lib/python3.6/dist-packages/c2s/c2s.py:509: UserWarning: The default model expects calcium traces sampled at 100 Hz.\n",
      "  warn('The default model expects calcium traces sampled at 100 Hz.')\n",
      "/usr/local/lib/python3.6/dist-packages/c2s/c2s.py:509: UserWarning: The default model expects calcium traces sampled at 100 Hz.\n",
      "  warn('The default model expects calcium traces sampled at 100 Hz.')\n",
      "/usr/local/lib/python3.6/dist-packages/c2s/c2s.py:509: UserWarning: The default model expects calcium traces sampled at 100 Hz.\n",
      "  warn('The default model expects calcium traces sampled at 100 Hz.')\n",
      "/usr/local/lib/python3.6/dist-packages/c2s/c2s.py:509: UserWarning: The default model expects calcium traces sampled at 100 Hz.\n",
      "  warn('The default model expects calcium traces sampled at 100 Hz.')\n",
      "/usr/local/lib/python3.6/dist-packages/c2s/c2s.py:509: UserWarning: The default model expects calcium traces sampled at 100 Hz.\n",
      "  warn('The default model expects calcium traces sampled at 100 Hz.')\n",
      "/usr/local/lib/python3.6/dist-packages/c2s/c2s.py:509: UserWarning: The default model expects calcium traces sampled at 100 Hz.\n",
      "  warn('The default model expects calcium traces sampled at 100 Hz.')\n",
      "/usr/local/lib/python3.6/dist-packages/c2s/c2s.py:509: UserWarning: The default model expects calcium traces sampled at 100 Hz.\n",
      "  warn('The default model expects calcium traces sampled at 100 Hz.')\n",
      "/usr/local/lib/python3.6/dist-packages/c2s/c2s.py:509: UserWarning: The default model expects calcium traces sampled at 100 Hz.\n",
      "  warn('The default model expects calcium traces sampled at 100 Hz.')\n",
      "/usr/local/lib/python3.6/dist-packages/c2s/c2s.py:509: UserWarning: The default model expects calcium traces sampled at 100 Hz.\n",
      "  warn('The default model expects calcium traces sampled at 100 Hz.')\n",
      "/usr/local/lib/python3.6/dist-packages/c2s/c2s.py:509: UserWarning: The default model expects calcium traces sampled at 100 Hz.\n",
      "  warn('The default model expects calcium traces sampled at 100 Hz.')\n",
      "/usr/local/lib/python3.6/dist-packages/c2s/c2s.py:509: UserWarning: The default model expects calcium traces sampled at 100 Hz.\n",
      "  warn('The default model expects calcium traces sampled at 100 Hz.')\n",
      "/usr/local/lib/python3.6/dist-packages/c2s/c2s.py:509: UserWarning: The default model expects calcium traces sampled at 100 Hz.\n",
      "  warn('The default model expects calcium traces sampled at 100 Hz.')\n",
      "/usr/local/lib/python3.6/dist-packages/c2s/c2s.py:509: UserWarning: The default model expects calcium traces sampled at 100 Hz.\n",
      "  warn('The default model expects calcium traces sampled at 100 Hz.')\n",
      "/usr/local/lib/python3.6/dist-packages/c2s/c2s.py:509: UserWarning: The default model expects calcium traces sampled at 100 Hz.\n",
      "  warn('The default model expects calcium traces sampled at 100 Hz.')\n",
      "/usr/local/lib/python3.6/dist-packages/c2s/c2s.py:509: UserWarning: The default model expects calcium traces sampled at 100 Hz.\n",
      "  warn('The default model expects calcium traces sampled at 100 Hz.')\n",
      "/usr/local/lib/python3.6/dist-packages/c2s/c2s.py:509: UserWarning: The default model expects calcium traces sampled at 100 Hz.\n",
      "  warn('The default model expects calcium traces sampled at 100 Hz.')\n",
      "/usr/local/lib/python3.6/dist-packages/c2s/c2s.py:509: UserWarning: The default model expects calcium traces sampled at 100 Hz.\n",
      "  warn('The default model expects calcium traces sampled at 100 Hz.')\n",
      "/usr/local/lib/python3.6/dist-packages/c2s/c2s.py:509: UserWarning: The default model expects calcium traces sampled at 100 Hz.\n",
      "  warn('The default model expects calcium traces sampled at 100 Hz.')\n",
      "/usr/local/lib/python3.6/dist-packages/c2s/c2s.py:509: UserWarning: The default model expects calcium traces sampled at 100 Hz.\n",
      "  warn('The default model expects calcium traces sampled at 100 Hz.')\n",
      "/usr/local/lib/python3.6/dist-packages/c2s/c2s.py:509: UserWarning: The default model expects calcium traces sampled at 100 Hz.\n",
      "  warn('The default model expects calcium traces sampled at 100 Hz.')\n",
      "/usr/local/lib/python3.6/dist-packages/c2s/c2s.py:509: UserWarning: The default model expects calcium traces sampled at 100 Hz.\n",
      "  warn('The default model expects calcium traces sampled at 100 Hz.')\n",
      "/usr/local/lib/python3.6/dist-packages/c2s/c2s.py:509: UserWarning: The default model expects calcium traces sampled at 100 Hz.\n",
      "  warn('The default model expects calcium traces sampled at 100 Hz.')\n",
      "/usr/local/lib/python3.6/dist-packages/c2s/c2s.py:509: UserWarning: The default model expects calcium traces sampled at 100 Hz.\n",
      "  warn('The default model expects calcium traces sampled at 100 Hz.')\n"
     ]
    },
    {
     "name": "stdout",
     "output_type": "stream",
     "text": [
      "Creating activity traces for {'animal_id': 1571, 'session': 1, 'scan_idx': 1, 'pipe_version': 1, 'field': 3, 'channel': 1, 'segmentation_method': 1, 'spike_method': 3}\n"
     ]
    },
    {
     "name": "stderr",
     "output_type": "stream",
     "text": [
      "/usr/local/lib/python3.6/dist-packages/c2s/c2s.py:509: UserWarning: The default model expects calcium traces sampled at 100 Hz.\n",
      "  warn('The default model expects calcium traces sampled at 100 Hz.')\n",
      "/usr/local/lib/python3.6/dist-packages/c2s/c2s.py:509: UserWarning: The default model expects calcium traces sampled at 100 Hz.\n",
      "  warn('The default model expects calcium traces sampled at 100 Hz.')\n",
      "/usr/local/lib/python3.6/dist-packages/c2s/c2s.py:509: UserWarning: The default model expects calcium traces sampled at 100 Hz.\n",
      "  warn('The default model expects calcium traces sampled at 100 Hz.')\n",
      "/usr/local/lib/python3.6/dist-packages/c2s/c2s.py:509: UserWarning: The default model expects calcium traces sampled at 100 Hz.\n",
      "  warn('The default model expects calcium traces sampled at 100 Hz.')\n",
      "/usr/local/lib/python3.6/dist-packages/c2s/c2s.py:509: UserWarning: The default model expects calcium traces sampled at 100 Hz.\n",
      "  warn('The default model expects calcium traces sampled at 100 Hz.')\n",
      "/usr/local/lib/python3.6/dist-packages/c2s/c2s.py:509: UserWarning: The default model expects calcium traces sampled at 100 Hz.\n",
      "  warn('The default model expects calcium traces sampled at 100 Hz.')\n",
      "/usr/local/lib/python3.6/dist-packages/c2s/c2s.py:509: UserWarning: The default model expects calcium traces sampled at 100 Hz.\n",
      "  warn('The default model expects calcium traces sampled at 100 Hz.')\n",
      "/usr/local/lib/python3.6/dist-packages/c2s/c2s.py:509: UserWarning: The default model expects calcium traces sampled at 100 Hz.\n",
      "  warn('The default model expects calcium traces sampled at 100 Hz.')\n",
      "/usr/local/lib/python3.6/dist-packages/c2s/c2s.py:509: UserWarning: The default model expects calcium traces sampled at 100 Hz.\n",
      "  warn('The default model expects calcium traces sampled at 100 Hz.')\n",
      "/usr/local/lib/python3.6/dist-packages/c2s/c2s.py:509: UserWarning: The default model expects calcium traces sampled at 100 Hz.\n",
      "  warn('The default model expects calcium traces sampled at 100 Hz.')\n",
      "/usr/local/lib/python3.6/dist-packages/c2s/c2s.py:509: UserWarning: The default model expects calcium traces sampled at 100 Hz.\n",
      "  warn('The default model expects calcium traces sampled at 100 Hz.')\n",
      "/usr/local/lib/python3.6/dist-packages/c2s/c2s.py:509: UserWarning: The default model expects calcium traces sampled at 100 Hz.\n",
      "  warn('The default model expects calcium traces sampled at 100 Hz.')\n",
      "/usr/local/lib/python3.6/dist-packages/c2s/c2s.py:509: UserWarning: The default model expects calcium traces sampled at 100 Hz.\n",
      "  warn('The default model expects calcium traces sampled at 100 Hz.')\n",
      "/usr/local/lib/python3.6/dist-packages/c2s/c2s.py:509: UserWarning: The default model expects calcium traces sampled at 100 Hz.\n",
      "  warn('The default model expects calcium traces sampled at 100 Hz.')\n",
      "/usr/local/lib/python3.6/dist-packages/c2s/c2s.py:509: UserWarning: The default model expects calcium traces sampled at 100 Hz.\n",
      "  warn('The default model expects calcium traces sampled at 100 Hz.')\n",
      "/usr/local/lib/python3.6/dist-packages/c2s/c2s.py:509: UserWarning: The default model expects calcium traces sampled at 100 Hz.\n",
      "  warn('The default model expects calcium traces sampled at 100 Hz.')\n",
      "/usr/local/lib/python3.6/dist-packages/c2s/c2s.py:509: UserWarning: The default model expects calcium traces sampled at 100 Hz.\n",
      "  warn('The default model expects calcium traces sampled at 100 Hz.')\n",
      "/usr/local/lib/python3.6/dist-packages/c2s/c2s.py:509: UserWarning: The default model expects calcium traces sampled at 100 Hz.\n",
      "  warn('The default model expects calcium traces sampled at 100 Hz.')\n",
      "/usr/local/lib/python3.6/dist-packages/c2s/c2s.py:509: UserWarning: The default model expects calcium traces sampled at 100 Hz.\n",
      "  warn('The default model expects calcium traces sampled at 100 Hz.')\n",
      "/usr/local/lib/python3.6/dist-packages/c2s/c2s.py:509: UserWarning: The default model expects calcium traces sampled at 100 Hz.\n",
      "  warn('The default model expects calcium traces sampled at 100 Hz.')\n",
      "/usr/local/lib/python3.6/dist-packages/c2s/c2s.py:509: UserWarning: The default model expects calcium traces sampled at 100 Hz.\n",
      "  warn('The default model expects calcium traces sampled at 100 Hz.')\n",
      "/usr/local/lib/python3.6/dist-packages/c2s/c2s.py:509: UserWarning: The default model expects calcium traces sampled at 100 Hz.\n",
      "  warn('The default model expects calcium traces sampled at 100 Hz.')\n",
      "/usr/local/lib/python3.6/dist-packages/c2s/c2s.py:509: UserWarning: The default model expects calcium traces sampled at 100 Hz.\n",
      "  warn('The default model expects calcium traces sampled at 100 Hz.')\n",
      "/usr/local/lib/python3.6/dist-packages/c2s/c2s.py:509: UserWarning: The default model expects calcium traces sampled at 100 Hz.\n",
      "  warn('The default model expects calcium traces sampled at 100 Hz.')\n",
      "/usr/local/lib/python3.6/dist-packages/c2s/c2s.py:509: UserWarning: The default model expects calcium traces sampled at 100 Hz.\n",
      "  warn('The default model expects calcium traces sampled at 100 Hz.')\n",
      "/usr/local/lib/python3.6/dist-packages/c2s/c2s.py:509: UserWarning: The default model expects calcium traces sampled at 100 Hz.\n",
      "  warn('The default model expects calcium traces sampled at 100 Hz.')\n",
      "/usr/local/lib/python3.6/dist-packages/c2s/c2s.py:509: UserWarning: The default model expects calcium traces sampled at 100 Hz.\n",
      "  warn('The default model expects calcium traces sampled at 100 Hz.')\n",
      "/usr/local/lib/python3.6/dist-packages/c2s/c2s.py:509: UserWarning: The default model expects calcium traces sampled at 100 Hz.\n",
      "  warn('The default model expects calcium traces sampled at 100 Hz.')\n",
      "/usr/local/lib/python3.6/dist-packages/c2s/c2s.py:509: UserWarning: The default model expects calcium traces sampled at 100 Hz.\n",
      "  warn('The default model expects calcium traces sampled at 100 Hz.')\n",
      "/usr/local/lib/python3.6/dist-packages/c2s/c2s.py:509: UserWarning: The default model expects calcium traces sampled at 100 Hz.\n",
      "  warn('The default model expects calcium traces sampled at 100 Hz.')\n",
      "/usr/local/lib/python3.6/dist-packages/c2s/c2s.py:509: UserWarning: The default model expects calcium traces sampled at 100 Hz.\n",
      "  warn('The default model expects calcium traces sampled at 100 Hz.')\n",
      "/usr/local/lib/python3.6/dist-packages/c2s/c2s.py:509: UserWarning: The default model expects calcium traces sampled at 100 Hz.\n",
      "  warn('The default model expects calcium traces sampled at 100 Hz.')\n",
      "/usr/local/lib/python3.6/dist-packages/c2s/c2s.py:509: UserWarning: The default model expects calcium traces sampled at 100 Hz.\n",
      "  warn('The default model expects calcium traces sampled at 100 Hz.')\n",
      "/usr/local/lib/python3.6/dist-packages/c2s/c2s.py:509: UserWarning: The default model expects calcium traces sampled at 100 Hz.\n",
      "  warn('The default model expects calcium traces sampled at 100 Hz.')\n",
      "/usr/local/lib/python3.6/dist-packages/c2s/c2s.py:509: UserWarning: The default model expects calcium traces sampled at 100 Hz.\n",
      "  warn('The default model expects calcium traces sampled at 100 Hz.')\n",
      "/usr/local/lib/python3.6/dist-packages/c2s/c2s.py:509: UserWarning: The default model expects calcium traces sampled at 100 Hz.\n",
      "  warn('The default model expects calcium traces sampled at 100 Hz.')\n",
      "/usr/local/lib/python3.6/dist-packages/c2s/c2s.py:509: UserWarning: The default model expects calcium traces sampled at 100 Hz.\n",
      "  warn('The default model expects calcium traces sampled at 100 Hz.')\n"
     ]
    },
    {
     "name": "stdout",
     "output_type": "stream",
     "text": [
      "Creating activity traces for {'animal_id': 1571, 'session': 1, 'scan_idx': 1, 'pipe_version': 1, 'field': 1, 'channel': 1, 'segmentation_method': 1, 'spike_method': 5}\n"
     ]
    },
    {
     "name": "stderr",
     "output_type": "stream",
     "text": [
      "/usr/local/lib/python3.6/dist-packages/caiman/source_extraction/cnmf/deconvolution.py:1001: FutureWarning: `rcond` parameter will change to the default of machine precision times ``max(M, N)`` where M and N are the input matrix dimensions.\n",
      "To use the future default and silence this warning we advise to pass `rcond=None`, to keep using the old, explicitly pass `rcond=-1`.\n",
      "  g = np.linalg.lstsq(A, xc[lags + 1:])[0]\n",
      "/usr/local/lib/python3.6/dist-packages/caiman/source_extraction/cnmf/deconvolution.py:1001: FutureWarning: `rcond` parameter will change to the default of machine precision times ``max(M, N)`` where M and N are the input matrix dimensions.\n",
      "To use the future default and silence this warning we advise to pass `rcond=None`, to keep using the old, explicitly pass `rcond=-1`.\n",
      "  g = np.linalg.lstsq(A, xc[lags + 1:])[0]\n",
      "/usr/local/lib/python3.6/dist-packages/caiman/source_extraction/cnmf/deconvolution.py:1001: FutureWarning: `rcond` parameter will change to the default of machine precision times ``max(M, N)`` where M and N are the input matrix dimensions.\n",
      "To use the future default and silence this warning we advise to pass `rcond=None`, to keep using the old, explicitly pass `rcond=-1`.\n",
      "  g = np.linalg.lstsq(A, xc[lags + 1:])[0]\n",
      "/usr/local/lib/python3.6/dist-packages/caiman/source_extraction/cnmf/deconvolution.py:1001: FutureWarning: `rcond` parameter will change to the default of machine precision times ``max(M, N)`` where M and N are the input matrix dimensions.\n",
      "To use the future default and silence this warning we advise to pass `rcond=None`, to keep using the old, explicitly pass `rcond=-1`.\n",
      "  g = np.linalg.lstsq(A, xc[lags + 1:])[0]\n",
      "/usr/local/lib/python3.6/dist-packages/caiman/source_extraction/cnmf/deconvolution.py:1001: FutureWarning: `rcond` parameter will change to the default of machine precision times ``max(M, N)`` where M and N are the input matrix dimensions.\n",
      "To use the future default and silence this warning we advise to pass `rcond=None`, to keep using the old, explicitly pass `rcond=-1`.\n",
      "  g = np.linalg.lstsq(A, xc[lags + 1:])[0]\n",
      "/usr/local/lib/python3.6/dist-packages/caiman/source_extraction/cnmf/deconvolution.py:1001: FutureWarning: `rcond` parameter will change to the default of machine precision times ``max(M, N)`` where M and N are the input matrix dimensions.\n",
      "To use the future default and silence this warning we advise to pass `rcond=None`, to keep using the old, explicitly pass `rcond=-1`.\n",
      "  g = np.linalg.lstsq(A, xc[lags + 1:])[0]\n",
      "/usr/local/lib/python3.6/dist-packages/caiman/source_extraction/cnmf/deconvolution.py:1001: FutureWarning: `rcond` parameter will change to the default of machine precision times ``max(M, N)`` where M and N are the input matrix dimensions.\n",
      "To use the future default and silence this warning we advise to pass `rcond=None`, to keep using the old, explicitly pass `rcond=-1`.\n",
      "  g = np.linalg.lstsq(A, xc[lags + 1:])[0]\n",
      "/usr/local/lib/python3.6/dist-packages/caiman/source_extraction/cnmf/deconvolution.py:1001: FutureWarning: `rcond` parameter will change to the default of machine precision times ``max(M, N)`` where M and N are the input matrix dimensions.\n",
      "To use the future default and silence this warning we advise to pass `rcond=None`, to keep using the old, explicitly pass `rcond=-1`.\n",
      "  g = np.linalg.lstsq(A, xc[lags + 1:])[0]\n",
      "/usr/local/lib/python3.6/dist-packages/caiman/source_extraction/cnmf/deconvolution.py:1001: FutureWarning: `rcond` parameter will change to the default of machine precision times ``max(M, N)`` where M and N are the input matrix dimensions.\n",
      "To use the future default and silence this warning we advise to pass `rcond=None`, to keep using the old, explicitly pass `rcond=-1`.\n",
      "  g = np.linalg.lstsq(A, xc[lags + 1:])[0]\n",
      "/usr/local/lib/python3.6/dist-packages/caiman/source_extraction/cnmf/deconvolution.py:1001: FutureWarning: `rcond` parameter will change to the default of machine precision times ``max(M, N)`` where M and N are the input matrix dimensions.\n",
      "To use the future default and silence this warning we advise to pass `rcond=None`, to keep using the old, explicitly pass `rcond=-1`.\n",
      "  g = np.linalg.lstsq(A, xc[lags + 1:])[0]\n"
     ]
    },
    {
     "name": "stdout",
     "output_type": "stream",
     "text": [
      "PROBLEM STATUS:optimal_inaccurate\n",
      "PROBLEM STATUS:optimal_inaccurate\n",
      "PROBLEM STATUS:optimal_inaccurate\n",
      "PROBLEM STATUS:optimal_inaccurate\n",
      "PROBLEM STATUS:optimal_inaccurate\n",
      "PROBLEM STATUS:optimal_inaccurate\n",
      "PROBLEM STATUS:optimal_inaccurate\n",
      "PROBLEM STATUS:optimal_inaccurate\n",
      "PROBLEM STATUS:optimal_inaccurate\n",
      "PROBLEM STATUS:optimal_inaccurate\n",
      "PROBLEM STATUS:optimal_inaccurate\n",
      "PROBLEM STATUS:optimal_inaccurate\n",
      "PROBLEM STATUS:optimal_inaccurate\n",
      "PROBLEM STATUS:optimal_inaccurate\n",
      "PROBLEM STATUS:optimal_inaccurate\n",
      "PROBLEM STATUS:optimal_inaccurate\n",
      "PROBLEM STATUS:optimal_inaccurate\n",
      "PROBLEM STATUS:optimal_inaccurate\n",
      "PROBLEM STATUS:optimal\n",
      "PROBLEM STATUS:optimal\n",
      "PROBLEM STATUS:optimal_inaccurate\n",
      "PROBLEM STATUS:optimal_inaccurate\n",
      "TRYING AGAIN ECOS\n",
      "PROBLEM STATUS:optimal_inaccurate\n",
      "PROBLEM STATUS:optimal_inaccurate\n",
      "PROBLEM STATUS:optimal_inaccurate\n",
      "PROBLEM STATUS:optimal_inaccurate\n",
      "PROBLEM STATUS:optimal_inaccurate\n",
      "PROBLEM STATUS:optimal_inaccurate\n",
      "PROBLEM STATUS:optimal_inaccurate\n",
      "PROBLEM STATUS:optimal_inaccurate\n",
      "PROBLEM STATUS:optimal_inaccurate\n",
      "PROBLEM STATUS:optimal_inaccurate\n",
      "PROBLEM STATUS:optimal_inaccurate\n",
      "PROBLEM STATUS:optimal_inaccurate\n",
      "PROBLEM STATUS:optimal_inaccurate\n",
      "PROBLEM STATUS:optimal_inaccurate\n",
      "PROBLEM STATUS:optimal_inaccurate\n",
      "PROBLEM STATUS:optimal_inaccurate\n",
      "PROBLEM STATUS:optimal_inaccurate\n",
      "PROBLEM STATUS:optimal_inaccurate\n",
      "PROBLEM STATUS:optimal_inaccurate\n",
      "PROBLEM STATUS:optimal_inaccurate\n",
      "PROBLEM STATUS:optimal_inaccurate\n",
      "PROBLEM STATUS:optimal_inaccurate\n",
      "PROBLEM STATUS:optimal_inaccurate\n",
      "PROBLEM STATUS:optimal_inaccurate\n",
      "PROBLEM STATUS:optimal_inaccurate\n",
      "PROBLEM STATUS:optimal_inaccurate\n",
      "PROBLEM STATUS:optimal_inaccurate\n",
      "PROBLEM STATUS:optimal_inaccurate\n",
      "PROBLEM STATUS:optimal_inaccurate\n",
      "PROBLEM STATUS:optimal_inaccurate\n",
      "PROBLEM STATUS:optimal_inaccurate\n",
      "PROBLEM STATUS:optimal_inaccurate\n",
      "PROBLEM STATUS:optimal_inaccurate\n",
      "TRYING AGAIN ECOS\n",
      "PROBLEM STATUS:optimal_inaccurate\n",
      "PROBLEM STATUS:optimal_inaccurate\n",
      "PROBLEM STATUS:optimal_inaccurate\n",
      "PROBLEM STATUS:optimal_inaccurate\n",
      "PROBLEM STATUS:optimal\n",
      "PROBLEM STATUS:optimal_inaccurate\n",
      "PROBLEM STATUS:optimal_inaccurate\n",
      "PROBLEM STATUS:optimal_inaccurate\n",
      "PROBLEM STATUS:optimal_inaccurate\n",
      "PROBLEM STATUS:optimal_inaccurate\n",
      "PROBLEM STATUS:optimal_inaccurate\n",
      "PROBLEM STATUS:optimal_inaccurate\n",
      "PROBLEM STATUS:optimal_inaccurate\n",
      "PROBLEM STATUS:optimal_inaccurate\n",
      "PROBLEM STATUS:optimal_inaccurate\n",
      "PROBLEM STATUS:optimal_inaccurate\n",
      "PROBLEM STATUS:optimal_inaccurate\n",
      "PROBLEM STATUS:optimal_inaccurate\n",
      "PROBLEM STATUS:optimal_inaccurate\n",
      "PROBLEM STATUS:optimal_inaccurate\n",
      "PROBLEM STATUS:optimal_inaccurate\n",
      "PROBLEM STATUS:optimal_inaccurate\n",
      "PROBLEM STATUS:optimal_inaccurate\n"
     ]
    },
    {
     "name": "stderr",
     "output_type": "stream",
     "text": [
      "/usr/local/lib/python3.6/dist-packages/datajoint/connection.py:219: UserWarning: MySQL server has gone away. Reconnecting to the server.\n",
      "  warnings.warn(\"MySQL server has gone away. Reconnecting to the server.\")\n"
     ]
    },
    {
     "ename": "LostConnectionError",
     "evalue": "Connection was lost during a transaction.",
     "output_type": "error",
     "traceback": [
      "\u001b[0;31m---------------------------------------------------------------------------\u001b[0m",
      "\u001b[0;31mLostConnectionError\u001b[0m                       Traceback (most recent call last)",
      "\u001b[0;32m<ipython-input-5-fc67f4227e42>\u001b[0m in \u001b[0;36m<module>\u001b[0;34m\u001b[0m\n\u001b[1;32m      2\u001b[0m \u001b[0mmeso\u001b[0m\u001b[0;34m.\u001b[0m\u001b[0mMaskClassification\u001b[0m\u001b[0;34m.\u001b[0m\u001b[0mpopulate\u001b[0m\u001b[0;34m(\u001b[0m\u001b[0;34m)\u001b[0m\u001b[0;34m\u001b[0m\u001b[0;34m\u001b[0m\u001b[0m\n\u001b[1;32m      3\u001b[0m \u001b[0mmeso\u001b[0m\u001b[0;34m.\u001b[0m\u001b[0mScanSet\u001b[0m\u001b[0;34m.\u001b[0m\u001b[0mpopulate\u001b[0m\u001b[0;34m(\u001b[0m\u001b[0;34m)\u001b[0m\u001b[0;34m\u001b[0m\u001b[0;34m\u001b[0m\u001b[0m\n\u001b[0;32m----> 4\u001b[0;31m \u001b[0mmeso\u001b[0m\u001b[0;34m.\u001b[0m\u001b[0mActivity\u001b[0m\u001b[0;34m.\u001b[0m\u001b[0mpopulate\u001b[0m\u001b[0;34m(\u001b[0m\u001b[0;34m)\u001b[0m\u001b[0;34m\u001b[0m\u001b[0;34m\u001b[0m\u001b[0m\n\u001b[0m\u001b[1;32m      5\u001b[0m \u001b[0mmeso\u001b[0m\u001b[0;34m.\u001b[0m\u001b[0mScanDone\u001b[0m\u001b[0;34m.\u001b[0m\u001b[0mpopulate\u001b[0m\u001b[0;34m(\u001b[0m\u001b[0;34m)\u001b[0m\u001b[0;34m\u001b[0m\u001b[0;34m\u001b[0m\u001b[0m\n",
      "\u001b[0;32m/usr/local/lib/python3.6/dist-packages/datajoint/autopopulate.py\u001b[0m in \u001b[0;36mpopulate\u001b[0;34m(self, suppress_errors, return_exception_objects, reserve_jobs, order, limit, max_calls, display_progress, *restrictions)\u001b[0m\n\u001b[1;32m    151\u001b[0m                     \u001b[0mself\u001b[0m\u001b[0;34m.\u001b[0m\u001b[0m__class__\u001b[0m\u001b[0;34m.\u001b[0m\u001b[0m_allow_insert\u001b[0m \u001b[0;34m=\u001b[0m \u001b[0;32mTrue\u001b[0m\u001b[0;34m\u001b[0m\u001b[0;34m\u001b[0m\u001b[0m\n\u001b[1;32m    152\u001b[0m                     \u001b[0;32mtry\u001b[0m\u001b[0;34m:\u001b[0m\u001b[0;34m\u001b[0m\u001b[0;34m\u001b[0m\u001b[0m\n\u001b[0;32m--> 153\u001b[0;31m                         \u001b[0mmake\u001b[0m\u001b[0;34m(\u001b[0m\u001b[0mdict\u001b[0m\u001b[0;34m(\u001b[0m\u001b[0mkey\u001b[0m\u001b[0;34m)\u001b[0m\u001b[0;34m)\u001b[0m\u001b[0;34m\u001b[0m\u001b[0;34m\u001b[0m\u001b[0m\n\u001b[0m\u001b[1;32m    154\u001b[0m                     \u001b[0;32mexcept\u001b[0m \u001b[0;34m(\u001b[0m\u001b[0mKeyboardInterrupt\u001b[0m\u001b[0;34m,\u001b[0m \u001b[0mSystemExit\u001b[0m\u001b[0;34m,\u001b[0m \u001b[0mException\u001b[0m\u001b[0;34m)\u001b[0m \u001b[0;32mas\u001b[0m \u001b[0merror\u001b[0m\u001b[0;34m:\u001b[0m\u001b[0;34m\u001b[0m\u001b[0;34m\u001b[0m\u001b[0m\n\u001b[1;32m    155\u001b[0m                         \u001b[0;32mtry\u001b[0m\u001b[0;34m:\u001b[0m\u001b[0;34m\u001b[0m\u001b[0;34m\u001b[0m\u001b[0m\n",
      "\u001b[0;32m/data/odor_meso/python/pipeline/meso.py\u001b[0m in \u001b[0;36mmake\u001b[0;34m(self, key)\u001b[0m\n\u001b[1;32m   1674\u001b[0m             \u001b[0;32mfor\u001b[0m \u001b[0munit_id\u001b[0m\u001b[0;34m,\u001b[0m \u001b[0;34m(\u001b[0m\u001b[0mspike_trace\u001b[0m\u001b[0;34m,\u001b[0m \u001b[0mar_coeffs\u001b[0m\u001b[0;34m)\u001b[0m \u001b[0;32min\u001b[0m \u001b[0mzip\u001b[0m\u001b[0;34m(\u001b[0m\u001b[0munit_ids\u001b[0m\u001b[0;34m,\u001b[0m \u001b[0mresults\u001b[0m\u001b[0;34m)\u001b[0m\u001b[0;34m:\u001b[0m\u001b[0;34m\u001b[0m\u001b[0;34m\u001b[0m\u001b[0m\n\u001b[1;32m   1675\u001b[0m                 \u001b[0mspike_trace\u001b[0m \u001b[0;34m=\u001b[0m \u001b[0mspike_trace\u001b[0m\u001b[0;34m.\u001b[0m\u001b[0mastype\u001b[0m\u001b[0;34m(\u001b[0m\u001b[0mnp\u001b[0m\u001b[0;34m.\u001b[0m\u001b[0mfloat32\u001b[0m\u001b[0;34m,\u001b[0m \u001b[0mcopy\u001b[0m\u001b[0;34m=\u001b[0m\u001b[0;32mFalse\u001b[0m\u001b[0;34m)\u001b[0m\u001b[0;34m\u001b[0m\u001b[0;34m\u001b[0m\u001b[0m\n\u001b[0;32m-> 1676\u001b[0;31m                 \u001b[0mActivity\u001b[0m\u001b[0;34m.\u001b[0m\u001b[0mTrace\u001b[0m\u001b[0;34m(\u001b[0m\u001b[0;34m)\u001b[0m\u001b[0;34m.\u001b[0m\u001b[0minsert1\u001b[0m\u001b[0;34m(\u001b[0m\u001b[0;34m{\u001b[0m\u001b[0;34m**\u001b[0m\u001b[0mkey\u001b[0m\u001b[0;34m,\u001b[0m \u001b[0;34m'unit_id'\u001b[0m\u001b[0;34m:\u001b[0m \u001b[0munit_id\u001b[0m\u001b[0;34m,\u001b[0m \u001b[0;34m'trace'\u001b[0m\u001b[0;34m:\u001b[0m \u001b[0mspike_trace\u001b[0m\u001b[0;34m}\u001b[0m\u001b[0;34m)\u001b[0m\u001b[0;34m\u001b[0m\u001b[0;34m\u001b[0m\u001b[0m\n\u001b[0m\u001b[1;32m   1677\u001b[0m                 Activity.ARCoefficients().insert1({**key, 'unit_id': unit_id, 'g': ar_coeffs},\n\u001b[1;32m   1678\u001b[0m                                                   ignore_extra_fields=True)\n",
      "\u001b[0;32m/usr/local/lib/python3.6/dist-packages/datajoint/table.py\u001b[0m in \u001b[0;36minsert1\u001b[0;34m(self, row, **kwargs)\u001b[0m\n\u001b[1;32m    212\u001b[0m         \u001b[0mFor\u001b[0m \u001b[0mkwargs\u001b[0m\u001b[0;34m,\u001b[0m \u001b[0msee\u001b[0m \u001b[0minsert\u001b[0m\u001b[0;34m(\u001b[0m\u001b[0;34m)\u001b[0m\u001b[0;34m\u001b[0m\u001b[0;34m\u001b[0m\u001b[0m\n\u001b[1;32m    213\u001b[0m         \"\"\"\n\u001b[0;32m--> 214\u001b[0;31m         \u001b[0mself\u001b[0m\u001b[0;34m.\u001b[0m\u001b[0minsert\u001b[0m\u001b[0;34m(\u001b[0m\u001b[0;34m(\u001b[0m\u001b[0mrow\u001b[0m\u001b[0;34m,\u001b[0m\u001b[0;34m)\u001b[0m\u001b[0;34m,\u001b[0m \u001b[0;34m**\u001b[0m\u001b[0mkwargs\u001b[0m\u001b[0;34m)\u001b[0m\u001b[0;34m\u001b[0m\u001b[0;34m\u001b[0m\u001b[0m\n\u001b[0m\u001b[1;32m    215\u001b[0m \u001b[0;34m\u001b[0m\u001b[0m\n\u001b[1;32m    216\u001b[0m     \u001b[0;32mdef\u001b[0m \u001b[0minsert\u001b[0m\u001b[0;34m(\u001b[0m\u001b[0mself\u001b[0m\u001b[0;34m,\u001b[0m \u001b[0mrows\u001b[0m\u001b[0;34m,\u001b[0m \u001b[0mreplace\u001b[0m\u001b[0;34m=\u001b[0m\u001b[0;32mFalse\u001b[0m\u001b[0;34m,\u001b[0m \u001b[0mskip_duplicates\u001b[0m\u001b[0;34m=\u001b[0m\u001b[0;32mFalse\u001b[0m\u001b[0;34m,\u001b[0m \u001b[0mignore_extra_fields\u001b[0m\u001b[0;34m=\u001b[0m\u001b[0;32mFalse\u001b[0m\u001b[0;34m,\u001b[0m \u001b[0mallow_direct_insert\u001b[0m\u001b[0;34m=\u001b[0m\u001b[0;32mNone\u001b[0m\u001b[0;34m)\u001b[0m\u001b[0;34m:\u001b[0m\u001b[0;34m\u001b[0m\u001b[0;34m\u001b[0m\u001b[0m\n",
      "\u001b[0;32m/usr/local/lib/python3.6/dist-packages/datajoint/table.py\u001b[0m in \u001b[0;36minsert\u001b[0;34m(self, rows, replace, skip_duplicates, ignore_extra_fields, allow_direct_insert)\u001b[0m\n\u001b[1;32m    245\u001b[0m                 ' To override, set keyword argument allow_direct_insert=True.')\n\u001b[1;32m    246\u001b[0m \u001b[0;34m\u001b[0m\u001b[0m\n\u001b[0;32m--> 247\u001b[0;31m         \u001b[0mheading\u001b[0m \u001b[0;34m=\u001b[0m \u001b[0mself\u001b[0m\u001b[0;34m.\u001b[0m\u001b[0mheading\u001b[0m\u001b[0;34m\u001b[0m\u001b[0;34m\u001b[0m\u001b[0m\n\u001b[0m\u001b[1;32m    248\u001b[0m         \u001b[0;32mif\u001b[0m \u001b[0minspect\u001b[0m\u001b[0;34m.\u001b[0m\u001b[0misclass\u001b[0m\u001b[0;34m(\u001b[0m\u001b[0mrows\u001b[0m\u001b[0;34m)\u001b[0m \u001b[0;32mand\u001b[0m \u001b[0missubclass\u001b[0m\u001b[0;34m(\u001b[0m\u001b[0mrows\u001b[0m\u001b[0;34m,\u001b[0m \u001b[0mQueryExpression\u001b[0m\u001b[0;34m)\u001b[0m\u001b[0;34m:\u001b[0m   \u001b[0;31m# instantiate if a class\u001b[0m\u001b[0;34m\u001b[0m\u001b[0;34m\u001b[0m\u001b[0m\n\u001b[1;32m    249\u001b[0m             \u001b[0mrows\u001b[0m \u001b[0;34m=\u001b[0m \u001b[0mrows\u001b[0m\u001b[0;34m(\u001b[0m\u001b[0;34m)\u001b[0m\u001b[0;34m\u001b[0m\u001b[0;34m\u001b[0m\u001b[0m\n",
      "\u001b[0;32m/usr/local/lib/python3.6/dist-packages/datajoint/table.py\u001b[0m in \u001b[0;36mheading\u001b[0;34m(self)\u001b[0m\n\u001b[1;32m     47\u001b[0m         \u001b[0;32mif\u001b[0m \u001b[0;32mnot\u001b[0m \u001b[0mself\u001b[0m\u001b[0;34m.\u001b[0m\u001b[0m_heading\u001b[0m \u001b[0;32mand\u001b[0m \u001b[0mself\u001b[0m\u001b[0;34m.\u001b[0m\u001b[0mconnection\u001b[0m \u001b[0;32mis\u001b[0m \u001b[0;32mnot\u001b[0m \u001b[0;32mNone\u001b[0m\u001b[0;34m:\u001b[0m  \u001b[0;31m# lazy loading of heading\u001b[0m\u001b[0;34m\u001b[0m\u001b[0;34m\u001b[0m\u001b[0m\n\u001b[1;32m     48\u001b[0m             self._heading.init_from_database(\n\u001b[0;32m---> 49\u001b[0;31m                 self.connection, self.database, self.table_name, self.declaration_context)\n\u001b[0m\u001b[1;32m     50\u001b[0m         \u001b[0;32mreturn\u001b[0m \u001b[0mself\u001b[0m\u001b[0;34m.\u001b[0m\u001b[0m_heading\u001b[0m\u001b[0;34m\u001b[0m\u001b[0;34m\u001b[0m\u001b[0m\n\u001b[1;32m     51\u001b[0m \u001b[0;34m\u001b[0m\u001b[0m\n",
      "\u001b[0;32m/usr/local/lib/python3.6/dist-packages/datajoint/heading.py\u001b[0m in \u001b[0;36minit_from_database\u001b[0;34m(self, conn, database, table_name, context)\u001b[0m\n\u001b[1;32m    153\u001b[0m         \"\"\"\n\u001b[1;32m    154\u001b[0m         info = conn.query('SHOW TABLE STATUS FROM `{database}` WHERE name=\"{table_name}\"'.format(\n\u001b[0;32m--> 155\u001b[0;31m             table_name=table_name, database=database), as_dict=True).fetchone()\n\u001b[0m\u001b[1;32m    156\u001b[0m         \u001b[0;32mif\u001b[0m \u001b[0minfo\u001b[0m \u001b[0;32mis\u001b[0m \u001b[0;32mNone\u001b[0m\u001b[0;34m:\u001b[0m\u001b[0;34m\u001b[0m\u001b[0;34m\u001b[0m\u001b[0m\n\u001b[1;32m    157\u001b[0m             \u001b[0;32mif\u001b[0m \u001b[0mtable_name\u001b[0m \u001b[0;34m==\u001b[0m \u001b[0;34m'~log'\u001b[0m\u001b[0;34m:\u001b[0m\u001b[0;34m\u001b[0m\u001b[0;34m\u001b[0m\u001b[0m\n",
      "\u001b[0;32m/usr/local/lib/python3.6/dist-packages/datajoint/connection.py\u001b[0m in \u001b[0;36mquery\u001b[0;34m(self, query, args, as_dict, suppress_warnings, reconnect)\u001b[0m\n\u001b[1;32m    221\u001b[0m             \u001b[0;32mif\u001b[0m \u001b[0mself\u001b[0m\u001b[0;34m.\u001b[0m\u001b[0m_in_transaction\u001b[0m\u001b[0;34m:\u001b[0m\u001b[0;34m\u001b[0m\u001b[0;34m\u001b[0m\u001b[0m\n\u001b[1;32m    222\u001b[0m                 \u001b[0mself\u001b[0m\u001b[0;34m.\u001b[0m\u001b[0mcancel_transaction\u001b[0m\u001b[0;34m(\u001b[0m\u001b[0;34m)\u001b[0m\u001b[0;34m\u001b[0m\u001b[0;34m\u001b[0m\u001b[0m\n\u001b[0;32m--> 223\u001b[0;31m                 \u001b[0;32mraise\u001b[0m \u001b[0merrors\u001b[0m\u001b[0;34m.\u001b[0m\u001b[0mLostConnectionError\u001b[0m\u001b[0;34m(\u001b[0m\u001b[0;34m\"Connection was lost during a transaction.\"\u001b[0m\u001b[0;34m)\u001b[0m \u001b[0;32mfrom\u001b[0m \u001b[0;32mNone\u001b[0m\u001b[0;34m\u001b[0m\u001b[0;34m\u001b[0m\u001b[0m\n\u001b[0m\u001b[1;32m    224\u001b[0m             \u001b[0mlogger\u001b[0m\u001b[0;34m.\u001b[0m\u001b[0mdebug\u001b[0m\u001b[0;34m(\u001b[0m\u001b[0;34m\"Re-executing\"\u001b[0m\u001b[0;34m)\u001b[0m\u001b[0;34m\u001b[0m\u001b[0;34m\u001b[0m\u001b[0m\n\u001b[1;32m    225\u001b[0m             \u001b[0mcursor\u001b[0m \u001b[0;34m=\u001b[0m \u001b[0mself\u001b[0m\u001b[0;34m.\u001b[0m\u001b[0m_conn\u001b[0m\u001b[0;34m.\u001b[0m\u001b[0mcursor\u001b[0m\u001b[0;34m(\u001b[0m\u001b[0mcursor\u001b[0m\u001b[0;34m=\u001b[0m\u001b[0mcursor_class\u001b[0m\u001b[0;34m)\u001b[0m\u001b[0;34m\u001b[0m\u001b[0;34m\u001b[0m\u001b[0m\n",
      "\u001b[0;31mLostConnectionError\u001b[0m: Connection was lost during a transaction."
     ]
    }
   ],
   "source": [
    "meso.Fluorescence.populate()\n",
    "meso.MaskClassification.populate()\n",
    "meso.ScanSet.populate()\n",
    "meso.Activity.populate()\n",
    "meso.ScanDone.populate()"
   ]
  },
  {
   "cell_type": "markdown",
   "metadata": {},
   "source": [
    "# WIP - Automated glomeruli segmentation"
   ]
  },
  {
   "cell_type": "code",
   "execution_count": 7,
   "metadata": {},
   "outputs": [
    {
     "name": "stderr",
     "output_type": "stream",
     "text": [
      "/usr/local/lib/python3.6/dist-packages/datajoint/connection.py:218: UserWarning: MySQL server has gone away. Reconnecting to the server.\n",
      "  warnings.warn(\"MySQL server has gone away. Reconnecting to the server.\")\n"
     ]
    }
   ],
   "source": [
    "entry_segmentation_task=[]\n",
    "\n",
    "for field in [1,2,3]:\n",
    "    entry_segmentation_task.append({'animal_id': animal_id,\n",
    "      'session': 1,\n",
    "      'scan_idx': 1,\n",
    "      'field': field,\n",
    "      'channel': 1,\n",
    "      'segmentation_method': 2,\n",
    "      'compartment': 'unknown'})\n",
    "meso.SegmentationTask.insert(entry_segmentation_task)  \n",
    "\n",
    "# (meso.SegmentationTask & 'segmentation_method=2').delete()\n",
    "# (meso.Segmentation & 'segmentation_method=2').delete()\n",
    "\n",
    "# entry_segmentation={'animal_id': 1571,\n",
    "#   'session': 1,\n",
    "#   'scan_idx': 1,\n",
    "#   'pipe_version': 1,\n",
    "#   'field': 1,\n",
    "#   'channel': 1,\n",
    "#   'segmentation_method': 2,\n",
    "#   'segmentation_time': '2020-03-23 16:28:40'}\n",
    "# meso.Segmentation.insert1(entry_segmentation, allow_direct_insert=True)\n",
    "\n",
    "# entry_segmentation_cnmf={'animal_id': 1571,\n",
    "#   'session': 1,\n",
    "#   'scan_idx': 1,\n",
    "#   'pipe_version': 1,\n",
    "#   'field': 1,\n",
    "#   'channel': 1,\n",
    "#   'segmentation_method': 2,\n",
    "#   'params': '{\"merge_threshold\": 0.7, \"soma_diameter\": [14.0, 14.0], \"num_pixels_per_process\": 10000, \"init_on_patches\": false, \"num_background_components\": 1, \"num_components\": 720, \"num_processes\": 12, \"init_method\": \"greedy_roi\"}'}\n",
    "# meso.Segmentation.CNMF.insert1(entry_segmentation_cnmf, allow_direct_insert=True)\n",
    "\n",
    "# meso.Segmentation.populate()"
   ]
  },
  {
   "cell_type": "markdown",
   "metadata": {},
   "source": [
    "# Odor pipeline"
   ]
  },
  {
   "cell_type": "code",
   "execution_count": 6,
   "metadata": {},
   "outputs": [
    {
     "name": "stderr",
     "output_type": "stream",
     "text": [
      "100%|██████████| 88/88 [00:00<00:00, 148.76it/s]\n",
      "100%|██████████| 62/62 [00:00<00:00, 166.53it/s]\n",
      "100%|██████████| 1/1 [00:00<00:00, 42.69it/s]\n",
      "100%|██████████| 12/12 [00:00<00:00, 134.28it/s]\n",
      "100%|██████████| 1/1 [00:00<00:00, 60.64it/s]\n",
      "100%|██████████| 1/1 [00:00<00:00, 71.80it/s]\n"
     ]
    }
   ],
   "source": [
    "insert_data('odor.Odorant.xz', odor.Odorant, False, False, False)\n",
    "insert_data('odor.OdorSolution.xz', odor.OdorSolution, False, False, False)\n",
    "insert_data('odor.OdorSession.xz', odor.OdorSession, False, False, False)\n",
    "insert_data('odor.OdorConfig.xz', odor.OdorConfig, False, False, False)\n",
    "insert_data('odor.OdorRecording.xz', odor.OdorRecording, False, False, False)\n",
    "insert_data('odor.MesoMatch.xz', odor.MesoMatch, False, False, False)"
   ]
  },
  {
   "cell_type": "code",
   "execution_count": 7,
   "metadata": {},
   "outputs": [
    {
     "name": "stdout",
     "output_type": "stream",
     "text": [
      "Populating trials for {'animal_id': 1571, 'odor_session': 10, 'recording_idx': 0}\n",
      "1579 odor trials found and inserted for {'animal_id': 1571, 'odor_session': 10, 'recording_idx': 0}.\n",
      "\n",
      "Populating Sync for {'animal_id': 1571, 'odor_session': 10, 'recording_idx': 0}\n",
      "Warning: Unequal spacing between continuos packets: 1088 abnormal gap(s) detected. Signal will have NaNs.\n",
      "ScanImage sync added for animal 1571, olfactory session 10, recording 0\n",
      "\n",
      "Populating Respiration for {'animal_id': 1571, 'odor_session': 10, 'recording_idx': 0}\n",
      "Warning: Unequal spacing between continuos packets: 1088 abnormal gap(s) detected. Signal will have NaNs.\n",
      "Largest NaN gap found: 0.06189109999999687 seconds\n",
      "Respiration data for {'animal_id': 1571, 'odor_session': 10, 'recording_idx': 0} successfully inserted.\n",
      "\n"
     ]
    }
   ],
   "source": [
    "odor.OdorTrials.populate()\n",
    "odor.OdorSync.populate()\n",
    "odor.Respiration.populate()"
   ]
  },
  {
   "cell_type": "code",
   "execution_count": 8,
   "metadata": {},
   "outputs": [
    {
     "name": "stdout",
     "output_type": "stream",
     "text": [
      "paths init  /data/odor_meso/paths.init\n",
      "My location is work_1\n",
      "Datajoint odor connection passes test\n",
      "kwargs {'paths_init': '/data/odor_meso/paths.init', 'expt_id': 0}\n",
      "Import Instructions None 0\n",
      "DataMan ready to build from default DataJoint.\n",
      "Meso Connected\n",
      "Datajoint pipelines connected\n",
      "import using restrictions  0 {'animal_id': 1571, 'odor_session': 10, 'recording_idx': 0, 'session': 1, 'scan_idx': 1, 'pipe_version': 1}\n",
      "Failure importing all fluorescence and timing data\n",
      "Halting import early\n",
      "Import info problems.  Build of DataMan stopped\n"
     ]
    },
    {
     "ename": "OSError",
     "evalue": "Unable to open file (unable to open file: name = '/data/external/meso_storage/scans_stitched.h5', errno = 2, error message = 'No such file or directory', flags = 0, o_flags = 0)",
     "output_type": "error",
     "traceback": [
      "\u001b[0;31m---------------------------------------------------------------------------\u001b[0m",
      "\u001b[0;31mOSError\u001b[0m                                   Traceback (most recent call last)",
      "\u001b[0;32m<ipython-input-8-99e735ece6b7>\u001b[0m in \u001b[0;36m<module>\u001b[0;34m\u001b[0m\n\u001b[0;32m----> 1\u001b[0;31m \u001b[0modor\u001b[0m\u001b[0;34m.\u001b[0m\u001b[0mOdorAnalysis\u001b[0m\u001b[0;34m.\u001b[0m\u001b[0mpopulate\u001b[0m\u001b[0;34m(\u001b[0m\u001b[0;34m)\u001b[0m\u001b[0;34m\u001b[0m\u001b[0;34m\u001b[0m\u001b[0m\n\u001b[0m",
      "\u001b[0;32m/usr/local/lib/python3.6/dist-packages/datajoint/autopopulate.py\u001b[0m in \u001b[0;36mpopulate\u001b[0;34m(self, suppress_errors, return_exception_objects, reserve_jobs, order, limit, max_calls, display_progress, *restrictions)\u001b[0m\n\u001b[1;32m    151\u001b[0m                     \u001b[0mself\u001b[0m\u001b[0;34m.\u001b[0m\u001b[0m__class__\u001b[0m\u001b[0;34m.\u001b[0m\u001b[0m_allow_insert\u001b[0m \u001b[0;34m=\u001b[0m \u001b[0;32mTrue\u001b[0m\u001b[0;34m\u001b[0m\u001b[0;34m\u001b[0m\u001b[0m\n\u001b[1;32m    152\u001b[0m                     \u001b[0;32mtry\u001b[0m\u001b[0;34m:\u001b[0m\u001b[0;34m\u001b[0m\u001b[0;34m\u001b[0m\u001b[0m\n\u001b[0;32m--> 153\u001b[0;31m                         \u001b[0mmake\u001b[0m\u001b[0;34m(\u001b[0m\u001b[0mdict\u001b[0m\u001b[0;34m(\u001b[0m\u001b[0mkey\u001b[0m\u001b[0;34m)\u001b[0m\u001b[0;34m)\u001b[0m\u001b[0;34m\u001b[0m\u001b[0;34m\u001b[0m\u001b[0m\n\u001b[0m\u001b[1;32m    154\u001b[0m                     \u001b[0;32mexcept\u001b[0m \u001b[0;34m(\u001b[0m\u001b[0mKeyboardInterrupt\u001b[0m\u001b[0;34m,\u001b[0m \u001b[0mSystemExit\u001b[0m\u001b[0;34m,\u001b[0m \u001b[0mException\u001b[0m\u001b[0;34m)\u001b[0m \u001b[0;32mas\u001b[0m \u001b[0merror\u001b[0m\u001b[0;34m:\u001b[0m\u001b[0;34m\u001b[0m\u001b[0;34m\u001b[0m\u001b[0m\n\u001b[1;32m    155\u001b[0m                         \u001b[0;32mtry\u001b[0m\u001b[0;34m:\u001b[0m\u001b[0;34m\u001b[0m\u001b[0;34m\u001b[0m\u001b[0m\n",
      "\u001b[0;32m/data/odor_meso/python/pipeline/odor.py\u001b[0m in \u001b[0;36mmake\u001b[0;34m(self, key)\u001b[0m\n\u001b[1;32m    335\u001b[0m         \u001b[0mstitched_filename\u001b[0m \u001b[0;34m=\u001b[0m \u001b[0;34mf'{os.environ.get(\"MESO_STORAGE\")}/scans_stitched.h5'\u001b[0m\u001b[0;34m\u001b[0m\u001b[0;34m\u001b[0m\u001b[0m\n\u001b[1;32m    336\u001b[0m         \u001b[0;31m# save location in database and then fetch\u001b[0m\u001b[0;34m\u001b[0m\u001b[0;34m\u001b[0m\u001b[0;34m\u001b[0m\u001b[0m\n\u001b[0;32m--> 337\u001b[0;31m         \u001b[0mh5\u001b[0m \u001b[0;34m=\u001b[0m \u001b[0mh5py\u001b[0m\u001b[0;34m.\u001b[0m\u001b[0mFile\u001b[0m\u001b[0;34m(\u001b[0m\u001b[0mstitched_filename\u001b[0m\u001b[0;34m,\u001b[0m\u001b[0;34m'r'\u001b[0m\u001b[0;34m)\u001b[0m\u001b[0;34m\u001b[0m\u001b[0;34m\u001b[0m\u001b[0m\n\u001b[0m\u001b[1;32m    338\u001b[0m \u001b[0;34m\u001b[0m\u001b[0m\n\u001b[1;32m    339\u001b[0m         \u001b[0mentry_combinedtrial\u001b[0m \u001b[0;34m=\u001b[0m \u001b[0;34m[\u001b[0m\u001b[0;34m]\u001b[0m\u001b[0;34m\u001b[0m\u001b[0;34m\u001b[0m\u001b[0m\n",
      "\u001b[0;32m/usr/local/lib/python3.6/dist-packages/h5py/_hl/files.py\u001b[0m in \u001b[0;36m__init__\u001b[0;34m(self, name, mode, driver, libver, userblock_size, swmr, rdcc_nslots, rdcc_nbytes, rdcc_w0, track_order, **kwds)\u001b[0m\n\u001b[1;32m    406\u001b[0m                 fid = make_fid(name, mode, userblock_size,\n\u001b[1;32m    407\u001b[0m                                \u001b[0mfapl\u001b[0m\u001b[0;34m,\u001b[0m \u001b[0mfcpl\u001b[0m\u001b[0;34m=\u001b[0m\u001b[0mmake_fcpl\u001b[0m\u001b[0;34m(\u001b[0m\u001b[0mtrack_order\u001b[0m\u001b[0;34m=\u001b[0m\u001b[0mtrack_order\u001b[0m\u001b[0;34m)\u001b[0m\u001b[0;34m,\u001b[0m\u001b[0;34m\u001b[0m\u001b[0;34m\u001b[0m\u001b[0m\n\u001b[0;32m--> 408\u001b[0;31m                                swmr=swmr)\n\u001b[0m\u001b[1;32m    409\u001b[0m \u001b[0;34m\u001b[0m\u001b[0m\n\u001b[1;32m    410\u001b[0m             \u001b[0;32mif\u001b[0m \u001b[0misinstance\u001b[0m\u001b[0;34m(\u001b[0m\u001b[0mlibver\u001b[0m\u001b[0;34m,\u001b[0m \u001b[0mtuple\u001b[0m\u001b[0;34m)\u001b[0m\u001b[0;34m:\u001b[0m\u001b[0;34m\u001b[0m\u001b[0;34m\u001b[0m\u001b[0m\n",
      "\u001b[0;32m/usr/local/lib/python3.6/dist-packages/h5py/_hl/files.py\u001b[0m in \u001b[0;36mmake_fid\u001b[0;34m(name, mode, userblock_size, fapl, fcpl, swmr)\u001b[0m\n\u001b[1;32m    171\u001b[0m         \u001b[0;32mif\u001b[0m \u001b[0mswmr\u001b[0m \u001b[0;32mand\u001b[0m \u001b[0mswmr_support\u001b[0m\u001b[0;34m:\u001b[0m\u001b[0;34m\u001b[0m\u001b[0;34m\u001b[0m\u001b[0m\n\u001b[1;32m    172\u001b[0m             \u001b[0mflags\u001b[0m \u001b[0;34m|=\u001b[0m \u001b[0mh5f\u001b[0m\u001b[0;34m.\u001b[0m\u001b[0mACC_SWMR_READ\u001b[0m\u001b[0;34m\u001b[0m\u001b[0;34m\u001b[0m\u001b[0m\n\u001b[0;32m--> 173\u001b[0;31m         \u001b[0mfid\u001b[0m \u001b[0;34m=\u001b[0m \u001b[0mh5f\u001b[0m\u001b[0;34m.\u001b[0m\u001b[0mopen\u001b[0m\u001b[0;34m(\u001b[0m\u001b[0mname\u001b[0m\u001b[0;34m,\u001b[0m \u001b[0mflags\u001b[0m\u001b[0;34m,\u001b[0m \u001b[0mfapl\u001b[0m\u001b[0;34m=\u001b[0m\u001b[0mfapl\u001b[0m\u001b[0;34m)\u001b[0m\u001b[0;34m\u001b[0m\u001b[0;34m\u001b[0m\u001b[0m\n\u001b[0m\u001b[1;32m    174\u001b[0m     \u001b[0;32melif\u001b[0m \u001b[0mmode\u001b[0m \u001b[0;34m==\u001b[0m \u001b[0;34m'r+'\u001b[0m\u001b[0;34m:\u001b[0m\u001b[0;34m\u001b[0m\u001b[0;34m\u001b[0m\u001b[0m\n\u001b[1;32m    175\u001b[0m         \u001b[0mfid\u001b[0m \u001b[0;34m=\u001b[0m \u001b[0mh5f\u001b[0m\u001b[0;34m.\u001b[0m\u001b[0mopen\u001b[0m\u001b[0;34m(\u001b[0m\u001b[0mname\u001b[0m\u001b[0;34m,\u001b[0m \u001b[0mh5f\u001b[0m\u001b[0;34m.\u001b[0m\u001b[0mACC_RDWR\u001b[0m\u001b[0;34m,\u001b[0m \u001b[0mfapl\u001b[0m\u001b[0;34m=\u001b[0m\u001b[0mfapl\u001b[0m\u001b[0;34m)\u001b[0m\u001b[0;34m\u001b[0m\u001b[0;34m\u001b[0m\u001b[0m\n",
      "\u001b[0;32mh5py/_objects.pyx\u001b[0m in \u001b[0;36mh5py._objects.with_phil.wrapper\u001b[0;34m()\u001b[0m\n",
      "\u001b[0;32mh5py/_objects.pyx\u001b[0m in \u001b[0;36mh5py._objects.with_phil.wrapper\u001b[0;34m()\u001b[0m\n",
      "\u001b[0;32mh5py/h5f.pyx\u001b[0m in \u001b[0;36mh5py.h5f.open\u001b[0;34m()\u001b[0m\n",
      "\u001b[0;31mOSError\u001b[0m: Unable to open file (unable to open file: name = '/data/external/meso_storage/scans_stitched.h5', errno = 2, error message = 'No such file or directory', flags = 0, o_flags = 0)"
     ]
    }
   ],
   "source": [
    "odor.OdorAnalysis.populate()"
   ]
  },
  {
   "cell_type": "markdown",
   "metadata": {},
   "source": [
    "# Treadmill pipeline"
   ]
  },
  {
   "cell_type": "code",
   "execution_count": null,
   "metadata": {},
   "outputs": [],
   "source": [
    "treadmill.Treadmill.populate()"
   ]
  },
  {
   "cell_type": "markdown",
   "metadata": {},
   "source": [
    "# Stack pipeline - Work in progress"
   ]
  },
  {
   "cell_type": "code",
   "execution_count": null,
   "metadata": {},
   "outputs": [],
   "source": [
    "experiment.Stack.insert1([121,8,1,'meso','unset','stack','scanimage','2017b',0,0,0,'','2020-12-09 11:46:48'])#unsure of depths\n",
    "experiment.Stack.Filename.insert1([121,8,1,1,'121_8_00001',0])#{animal_id, session, stack_idx, filename_idx, filename, surf_depth}) #unsure of depths"
   ]
  },
  {
   "cell_type": "code",
   "execution_count": null,
   "metadata": {},
   "outputs": [],
   "source": [
    "stack.StackInfo.populate()\n",
    "stack.Quality.populate()\n",
    "stack.CorrectionChannel.insert1([121,8,1,1])#correct?\n",
    "stack.RasterCorrection.populate()\n",
    "stack.MotionCorrection.populate()\n",
    "stack.Stitching.populate()\n",
    "stack.CorrectedStack.populate()\n",
    "stack.PreprocessedStack.populate()#dj.conn.ping required\n",
    "# stack.Surface.populate() # did not populate\n",
    "stack.SegmentationTask.insert1([121,8,1,1,1,2,'soma'])#correct?"
   ]
  },
  {
   "cell_type": "code",
   "execution_count": null,
   "metadata": {},
   "outputs": [],
   "source": [
    "stack.Segmentation.populate()\n",
    "stack.RegistrationTask.insert1([121,8,1,1,,5])#correct?\n",
    "stack.Registration.populate()\n",
    "stack.FieldSegmentation.populate()\n",
    "stack.RegistrationOverTime.populate()\n",
    "stack.Drift.populate()\n",
    "stack.StackSet.populate()\n",
    "stack.Area.populate()"
   ]
  },
  {
   "cell_type": "markdown",
   "metadata": {},
   "source": [
    "# Pupil pipeline - Work in progress"
   ]
  },
  {
   "cell_type": "code",
   "execution_count": null,
   "metadata": {},
   "outputs": [],
   "source": [
    "pupil.Eye.populate()"
   ]
  },
  {
   "cell_type": "code",
   "execution_count": null,
   "metadata": {},
   "outputs": [],
   "source": [
    "class TrackingTask(dj.Manual):\n",
    "pupil.TrackedVideo.populate()\n",
    "class ManuallyTrackedContours(dj.Manual, AutoPopulate):\n",
    "pupil.FittedContour.populate()\n",
    "class ConfigDeeplabcut(dj.Manual):\n",
    "pupil.Tracking.populate()\n",
    "pupil.FittedPupil.populate()"
   ]
  },
  {
   "cell_type": "markdown",
   "metadata": {},
   "source": [
    "# Drop schemas"
   ]
  },
  {
   "cell_type": "code",
   "execution_count": null,
   "metadata": {},
   "outputs": [],
   "source": [
    "mice.schema.drop()\n",
    "shared.schema.drop()\n",
    "experiment.schema.drop()\n",
    "meso.schema.drop()\n",
    "odor.schema.drop()\n",
    "treadmill.schema.drop()\n",
    "stack.schema.drop()\n",
    "pupil.schema.drop()"
   ]
  }
 ],
 "metadata": {
  "kernelspec": {
   "display_name": "Python 3",
   "language": "python",
   "name": "python3"
  },
  "language_info": {
   "codemirror_mode": {
    "name": "ipython",
    "version": 3
   },
   "file_extension": ".py",
   "mimetype": "text/x-python",
   "name": "python",
   "nbconvert_exporter": "python",
   "pygments_lexer": "ipython3",
   "version": "3.6.8"
  }
 },
 "nbformat": 4,
 "nbformat_minor": 4
}