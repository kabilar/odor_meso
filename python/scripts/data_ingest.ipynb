{
 "cells": [
  {
   "cell_type": "code",
   "execution_count": null,
   "metadata": {},
   "outputs": [],
   "source": [
    "import os\n",
    "import lzma\n",
    "import pickle\n",
    "from tqdm import tqdm\n",
    "import datajoint as dj\n",
    "from pipeline import meso, stack, treadmill, pupil, odor, mice, experiment, shared\n",
    "\n",
    "directory = '/data/odor_meso/' + os.environ.get('INGESTION_STORAGE')"
   ]
  },
  {
   "cell_type": "markdown",
   "metadata": {},
   "source": [
    "# Define `animal_id` data to be ingested"
   ]
  },
  {
   "cell_type": "code",
   "execution_count": null,
   "metadata": {},
   "outputs": [],
   "source": [
    "animal_id = 1571"
   ]
  },
  {
   "cell_type": "markdown",
   "metadata": {},
   "source": [
    "# Function to insert metadata"
   ]
  },
  {
   "cell_type": "code",
   "execution_count": null,
   "metadata": {},
   "outputs": [],
   "source": [
    "def insert_data(filename, table, skip_duplicates, ignore_extra_fields, allow_direct_insert, print_data=False):\n",
    "    with lzma.open(filename, \"rb\") as f:\n",
    "        loaded_data = pickle.load(f)\n",
    "        f.close()\n",
    "    \n",
    "    if print_data:\n",
    "        print(loaded_data)\n",
    "\n",
    "    for i in tqdm(range(len(loaded_data))):\n",
    "        table.insert1(loaded_data[i],\n",
    "                      skip_duplicates=skip_duplicates,\n",
    "                      ignore_extra_fields=ignore_extra_fields,\n",
    "                      allow_direct_insert=allow_direct_insert)"
   ]
  },
  {
   "cell_type": "markdown",
   "metadata": {},
   "source": [
    "# Mice pipeline"
   ]
  },
  {
   "cell_type": "code",
   "execution_count": null,
   "metadata": {},
   "outputs": [],
   "source": [
    "insert_data(directory + f'/animal_id_{animal_id}' + '/mice.Mice.xz', mice.Mice, False, False, False, True)"
   ]
  },
  {
   "cell_type": "markdown",
   "metadata": {},
   "source": [
    "# Shared pipeline"
   ]
  },
  {
   "cell_type": "code",
   "execution_count": null,
   "metadata": {},
   "outputs": [],
   "source": [
    "insert_data(directory + f'/animal_id_{animal_id}' + '/shared.PipelineVersion.xz', shared.PipelineVersion, True, False, False, True)"
   ]
  },
  {
   "cell_type": "markdown",
   "metadata": {},
   "source": [
    "# Experiment pipeline"
   ]
  },
  {
   "cell_type": "code",
   "execution_count": null,
   "metadata": {},
   "outputs": [],
   "source": [
    "insert_data(directory + f'/animal_id_{animal_id}' + '/experiment.Rig.xz', experiment.Rig, True, False, False, True)\n",
    "insert_data(directory + f'/animal_id_{animal_id}' + '/experiment.Lens.xz', experiment.Lens, True, False, False, True)\n",
    "insert_data(directory + f'/animal_id_{animal_id}' + '/experiment.Aim.xz', experiment.Aim, True, False, False, True)\n",
    "insert_data(directory + f'/animal_id_{animal_id}' + '/experiment.Software.xz', experiment.Software, True, False, False, True)\n",
    "insert_data(directory + f'/animal_id_{animal_id}' + '/experiment.Session.xz', experiment.Session, False, True, False, True)\n",
    "insert_data(directory + f'/animal_id_{animal_id}' + '/experiment.Scan.xz', experiment.Scan, False, False, False, True)\n",
    "insert_data(directory + f'/animal_id_{animal_id}' + '/experiment.Scan.EyeVideo.xz', experiment.Scan.EyeVideo, False, False, False, True)\n",
    "insert_data(directory + f'/animal_id_{animal_id}' + '/experiment.Scan.BehaviorFile.xz', experiment.Scan.BehaviorFile, False, False, False, True)\n",
    "insert_data(directory + f'/animal_id_{animal_id}' + '/experiment.Scan.Laser.xz', experiment.Scan.Laser, False, False, False, True)\n",
    "insert_data(directory + f'/animal_id_{animal_id}' + '/experiment.TreadmillSpecs.xz', experiment.TreadmillSpecs, False, False, False, True)"
   ]
  },
  {
   "cell_type": "code",
   "execution_count": null,
   "metadata": {},
   "outputs": [],
   "source": [
    "experiment.ExperimentalIdentifier.insert(experiment.Session.fetch('KEY'),skip_duplicates=True)"
   ]
  },
  {
   "cell_type": "markdown",
   "metadata": {},
   "source": [
    "# Meso pipeline"
   ]
  },
  {
   "cell_type": "code",
   "execution_count": null,
   "metadata": {},
   "outputs": [],
   "source": [
    "insert_data(directory + f'/animal_id_{animal_id}' + '/meso.Version.xz', meso.Version, False, False, False, True)"
   ]
  },
  {
   "cell_type": "code",
   "execution_count": null,
   "metadata": {},
   "outputs": [],
   "source": [
    "meso.ScanInfo.populate()"
   ]
  },
  {
   "cell_type": "code",
   "execution_count": null,
   "metadata": {},
   "outputs": [],
   "source": [
    "dj.config[\"enable_python_native_blobs\"] = True\n",
    "meso.Quality.populate()"
   ]
  },
  {
   "cell_type": "code",
   "execution_count": null,
   "metadata": {},
   "outputs": [],
   "source": [
    "insert_data(directory + f'/animal_id_{animal_id}' + '/meso.CorrectionChannel.xz', meso.CorrectionChannel, False, False, False, True)"
   ]
  },
  {
   "cell_type": "code",
   "execution_count": null,
   "metadata": {},
   "outputs": [],
   "source": [
    "meso.RasterCorrection.populate()\n",
    "meso.MotionCorrection.populate()\n",
    "meso.SummaryImages.populate()"
   ]
  },
  {
   "cell_type": "code",
   "execution_count": null,
   "metadata": {},
   "outputs": [],
   "source": [
    "insert_data(directory + f'/animal_id_{animal_id}' + '/meso.SegmentationTask.xz', meso.SegmentationTask, False, False, False, True)\n",
    "insert_data(directory + f'/animal_id_{animal_id}' + '/meso.Segmentation.xz', meso.Segmentation, False, False, True, False)\n",
    "insert_data(directory + f'/animal_id_{animal_id}' + '/meso.Segmentation.Manual.xz', meso.Segmentation.Manual, False, False, True, False)\n",
    "insert_data(directory + f'/animal_id_{animal_id}' + '/meso.Segmentation.Mask.xz', meso.Segmentation.Mask, False, False, True, False)"
   ]
  },
  {
   "cell_type": "code",
   "execution_count": null,
   "metadata": {},
   "outputs": [],
   "source": [
    "meso.Fluorescence.populate()\n",
    "meso.MaskClassification.populate()\n",
    "meso.ScanSet.populate()\n",
    "meso.Activity.populate()\n",
    "meso.ScanDone.populate()"
   ]
  },
  {
   "cell_type": "markdown",
   "metadata": {},
   "source": [
    "# Odor pipeline"
   ]
  },
  {
   "cell_type": "code",
   "execution_count": null,
   "metadata": {},
   "outputs": [],
   "source": [
    "insert_data(directory + f'/animal_id_{animal_id}' + '/odor.Odorant.xz', odor.Odorant, False, False, False, True)\n",
    "insert_data(directory + f'/animal_id_{animal_id}' + '/odor.OdorSolution.xz', odor.OdorSolution, False, False, False, True)\n",
    "insert_data(directory + f'/animal_id_{animal_id}' + '/odor.OdorSession.xz', odor.OdorSession, False, False, False, True)\n",
    "insert_data(directory + f'/animal_id_{animal_id}' + '/odor.OdorConfig.xz', odor.OdorConfig, False, False, False, True)\n",
    "insert_data(directory + f'/animal_id_{animal_id}' + '/odor.OdorRecording.xz', odor.OdorRecording, False, False, False, True)\n",
    "insert_data(directory + f'/animal_id_{animal_id}' + '/odor.MesoMatch.xz', odor.MesoMatch, False, False, False, True)"
   ]
  },
  {
   "cell_type": "code",
   "execution_count": null,
   "metadata": {},
   "outputs": [],
   "source": [
    "odor.OdorTrials.populate()\n",
    "odor.OdorSync.populate()\n",
    "odor.Respiration.populate()"
   ]
  },
  {
   "cell_type": "code",
   "execution_count": null,
   "metadata": {},
   "outputs": [],
   "source": [
    "odor.OdorAnalysis.populate()"
   ]
  },
  {
   "cell_type": "markdown",
   "metadata": {},
   "source": [
    "# Treadmill pipeline"
   ]
  },
  {
   "cell_type": "code",
   "execution_count": null,
   "metadata": {},
   "outputs": [],
   "source": [
    "treadmill.Treadmill.populate()"
   ]
  }
 ],
 "metadata": {
  "kernelspec": {
   "display_name": "Python 3",
   "language": "python",
   "name": "python3"
  },
  "language_info": {
   "codemirror_mode": {
    "name": "ipython",
    "version": 3
   },
   "file_extension": ".py",
   "mimetype": "text/x-python",
   "name": "python",
   "nbconvert_exporter": "python",
   "pygments_lexer": "ipython3",
   "version": "3.6.8"
  }
 },
 "nbformat": 4,
 "nbformat_minor": 4
}
