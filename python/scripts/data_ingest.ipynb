{
 "cells": [
  {
   "cell_type": "code",
   "execution_count": null,
   "metadata": {},
   "outputs": [],
   "source": [
    "# TODO Sync notebook and script "
   ]
  },
  {
   "cell_type": "code",
   "execution_count": 1,
   "metadata": {},
   "outputs": [],
   "source": [
    "import os\n",
    "import lzma\n",
    "import pickle\n",
    "from tqdm import tqdm\n",
    "import datajoint as dj\n",
    "dj.config['database.prefix'] = os.environ.get('DJ_PREFIX', '')\n",
    "from pipeline import meso, stack, treadmill, odor, mice, experiment, shared#, pupil - version of deeplabcut doesn't work with upgraded version of scipy, which was upgraded for griddata interpolation of masks in stitched space"
   ]
  },
  {
   "cell_type": "markdown",
   "metadata": {},
   "source": [
    "# Define animal_id data to be ingested"
   ]
  },
  {
   "cell_type": "code",
   "execution_count": 5,
   "metadata": {},
   "outputs": [],
   "source": [
    "# animal_id = 1571\n",
    "# animal_id  = 14864\n",
    "animal_id = 122"
   ]
  },
  {
   "cell_type": "markdown",
   "metadata": {},
   "source": [
    "# Function to insert metadata"
   ]
  },
  {
   "cell_type": "code",
   "execution_count": 6,
   "metadata": {},
   "outputs": [],
   "source": [
    "directory = f'{os.environ.get(\"INGESTION_STORAGE\")}/animal_id_{animal_id}/'\n",
    "\n",
    "def insert_data(filename, table, skip_duplicates, ignore_extra_fields, allow_direct_insert):\n",
    "    with lzma.open(directory + filename, \"rb\") as f:\n",
    "        loaded_data = pickle.load(f)\n",
    "        f.close()\n",
    "\n",
    "#     print(loaded_data)\n",
    "\n",
    "    for i in tqdm(range(len(loaded_data))):\n",
    "        table.insert1(loaded_data[i],\n",
    "                      skip_duplicates=skip_duplicates,\n",
    "                      ignore_extra_fields=ignore_extra_fields,\n",
    "                      allow_direct_insert=allow_direct_insert)"
   ]
  },
  {
   "cell_type": "markdown",
   "metadata": {},
   "source": [
    "# Mice pipeline"
   ]
  },
  {
   "cell_type": "code",
   "execution_count": null,
   "metadata": {},
   "outputs": [],
   "source": [
    "insert_data(filename='mice.Mice.xz', \n",
    "            table=mice.Mice, \n",
    "            skip_duplicates=False, \n",
    "            ignore_extra_fields=False, \n",
    "            allow_direct_insert=False)"
   ]
  },
  {
   "cell_type": "markdown",
   "metadata": {},
   "source": [
    "# Shared pipeline"
   ]
  },
  {
   "cell_type": "code",
   "execution_count": null,
   "metadata": {},
   "outputs": [],
   "source": [
    "insert_data(filename='shared.PipelineVersion.xz', \n",
    "            table=shared.PipelineVersion, \n",
    "            skip_duplicates=True, \n",
    "            ignore_extra_fields=False, \n",
    "            allow_direct_insert=False)"
   ]
  },
  {
   "cell_type": "markdown",
   "metadata": {},
   "source": [
    "# Experiment pipeline"
   ]
  },
  {
   "cell_type": "code",
   "execution_count": null,
   "metadata": {},
   "outputs": [],
   "source": [
    "insert_data('experiment.Rig.xz', experiment.Rig, True, False, False)\n",
    "insert_data('experiment.Lens.xz', experiment.Lens, True, False, False)\n",
    "insert_data('experiment.Aim.xz', experiment.Aim, True, False, False)\n",
    "insert_data('experiment.Software.xz', experiment.Software, True, False, False)\n",
    "insert_data('experiment.Session.xz', experiment.Session, False, True, False)\n",
    "insert_data('experiment.Scan.xz', experiment.Scan, False, False, False)\n",
    "insert_data('experiment.Scan.EyeVideo.xz', experiment.Scan.EyeVideo, False, False, False)\n",
    "insert_data('experiment.Scan.BehaviorFile.xz', experiment.Scan.BehaviorFile, False, False, False)\n",
    "insert_data('experiment.Scan.Laser.xz', experiment.Scan.Laser, False, False, False)\n",
    "insert_data('experiment.TreadmillSpecs.xz', experiment.TreadmillSpecs, False, False, False)"
   ]
  },
  {
   "cell_type": "code",
   "execution_count": 8,
   "metadata": {},
   "outputs": [],
   "source": [
    "experiment.ExperimentalIdentifier.insert(experiment.Scan.fetch('KEY'),skip_duplicates=True)"
   ]
  },
  {
   "cell_type": "markdown",
   "metadata": {},
   "source": [
    "# Meso pipeline"
   ]
  },
  {
   "cell_type": "code",
   "execution_count": null,
   "metadata": {},
   "outputs": [],
   "source": [
    "insert_data(filename='meso.Version.xz', \n",
    "            table=meso.Version, \n",
    "            skip_duplicates=False, \n",
    "            ignore_extra_fields=False, \n",
    "            allow_direct_insert=False)"
   ]
  },
  {
   "cell_type": "code",
   "execution_count": 10,
   "metadata": {},
   "outputs": [
    {
     "name": "stdout",
     "output_type": "stream",
     "text": [
      "Reading header...\n"
     ]
    }
   ],
   "source": [
    "meso.ScanInfo.populate()"
   ]
  },
  {
   "cell_type": "code",
   "execution_count": null,
   "metadata": {},
   "outputs": [],
   "source": [
    "meso.Quality.populate()"
   ]
  },
  {
   "cell_type": "code",
   "execution_count": 8,
   "metadata": {
    "collapsed": true,
    "jupyter": {
     "outputs_hidden": true
    }
   },
   "outputs": [],
   "source": [
    "# insert_data('meso.CorrectionChannel.xz', meso.CorrectionChannel, False, False, False)"
   ]
  },
  {
   "cell_type": "code",
   "execution_count": 9,
   "metadata": {
    "collapsed": true,
    "jupyter": {
     "outputs_hidden": true
    }
   },
   "outputs": [],
   "source": [
    "meso.RasterCorrection.populate()"
   ]
  },
  {
   "cell_type": "code",
   "execution_count": null,
   "metadata": {},
   "outputs": [],
   "source": [
    "meso.MotionCorrection.populate()"
   ]
  },
  {
   "cell_type": "code",
   "execution_count": null,
   "metadata": {},
   "outputs": [],
   "source": [
    "meso.SummaryImages.populate()"
   ]
  },
  {
   "cell_type": "code",
   "execution_count": null,
   "metadata": {},
   "outputs": [],
   "source": [
    "meso.Stitch.populate()"
   ]
  },
  {
   "cell_type": "code",
   "execution_count": null,
   "metadata": {},
   "outputs": [],
   "source": [
    "insert_data('meso.SegmentationTask.xz', meso.SegmentationTask, False, False, False)\n",
    "insert_data('meso.Segmentation.xz', meso.Segmentation, False, False, True)\n",
    "insert_data('meso.Segmentation.Manual.xz', meso.Segmentation.Manual, False, False, True)\n",
    "insert_data('meso.Segmentation.Mask.xz', meso.Segmentation.Mask, False, False, True)"
   ]
  },
  {
   "cell_type": "code",
   "execution_count": null,
   "metadata": {},
   "outputs": [],
   "source": [
    "meso.Fluorescence.populate()"
   ]
  },
  {
   "cell_type": "code",
   "execution_count": null,
   "metadata": {},
   "outputs": [],
   "source": [
    "meso.MaskClassification.populate()"
   ]
  },
  {
   "cell_type": "code",
   "execution_count": null,
   "metadata": {},
   "outputs": [],
   "source": [
    "meso.ScanSet.populate()"
   ]
  },
  {
   "cell_type": "code",
   "execution_count": null,
   "metadata": {},
   "outputs": [],
   "source": [
    "meso.Activity.populate()"
   ]
  },
  {
   "cell_type": "code",
   "execution_count": null,
   "metadata": {},
   "outputs": [],
   "source": [
    "meso.ScanDone.populate()"
   ]
  },
  {
   "cell_type": "markdown",
   "metadata": {},
   "source": [
    "# WIP - Automated glomeruli segmentation"
   ]
  },
  {
   "cell_type": "code",
   "execution_count": 8,
   "metadata": {},
   "outputs": [],
   "source": [
    "entry_segmentation_task=[]\n",
    "\n",
    "for field in [1,2,3]:\n",
    "    entry_segmentation_task.append({'animal_id': animal_id,\n",
    "      'session': 1,\n",
    "      'scan_idx': 1,\n",
    "      'field': field,\n",
    "      'channel': 1,\n",
    "      'segmentation_method': 2,\n",
    "      'compartment': 'unknown'})\n",
    "meso.SegmentationTask.insert(entry_segmentation_task)  "
   ]
  },
  {
   "cell_type": "code",
   "execution_count": null,
   "metadata": {},
   "outputs": [],
   "source": [
    "meso.Segmentation.populate()"
   ]
  },
  {
   "cell_type": "code",
   "execution_count": null,
   "metadata": {},
   "outputs": [],
   "source": [
    "# (meso.SegmentationTask & 'segmentation_method=2').delete()\n",
    "# (meso.Segmentation & 'segmentation_method=2').delete()"
   ]
  },
  {
   "cell_type": "markdown",
   "metadata": {},
   "source": [
    "# Odor pipeline"
   ]
  },
  {
   "cell_type": "code",
   "execution_count": null,
   "metadata": {},
   "outputs": [],
   "source": [
    "insert_data('odor.Odorant.xz', odor.Odorant, False, False, False)\n",
    "insert_data('odor.OdorSolution.xz', odor.OdorSolution, False, False, False)\n",
    "insert_data('odor.OdorSession.xz', odor.OdorSession, False, False, False)\n",
    "insert_data('odor.OdorConfig.xz', odor.OdorConfig, False, False, False)\n",
    "insert_data('odor.OdorRecording.xz', odor.OdorRecording, False, False, False)\n",
    "insert_data('odor.MesoMatch.xz', odor.MesoMatch, False, False, False)"
   ]
  },
  {
   "cell_type": "code",
   "execution_count": null,
   "metadata": {},
   "outputs": [],
   "source": [
    "odor.OdorTrials.populate()"
   ]
  },
  {
   "cell_type": "code",
   "execution_count": null,
   "metadata": {},
   "outputs": [],
   "source": [
    "odor.OdorSync.populate()"
   ]
  },
  {
   "cell_type": "code",
   "execution_count": null,
   "metadata": {},
   "outputs": [],
   "source": [
    "odor.Respiration.populate()"
   ]
  },
  {
   "cell_type": "code",
   "execution_count": null,
   "metadata": {},
   "outputs": [],
   "source": [
    "odor.OdorAnalysis.populate()"
   ]
  },
  {
   "cell_type": "markdown",
   "metadata": {},
   "source": [
    "# Treadmill pipeline"
   ]
  },
  {
   "cell_type": "code",
   "execution_count": 9,
   "metadata": {},
   "outputs": [],
   "source": [
    "treadmill.Treadmill.populate()"
   ]
  },
  {
   "cell_type": "markdown",
   "metadata": {},
   "source": [
    "# TODO: Stack pipeline"
   ]
  },
  {
   "cell_type": "code",
   "execution_count": null,
   "metadata": {
    "collapsed": true,
    "jupyter": {
     "outputs_hidden": true
    }
   },
   "outputs": [],
   "source": [
    "experiment.Stack.insert1([121,8,1,'meso','unset','stack','scanimage','2017b',0,0,0,'','2020-12-09 11:46:48'])#unsure of depths\n",
    "experiment.Stack.Filename.insert1([121,8,1,1,'121_8_00001',0])#{animal_id, session, stack_idx, filename_idx, filename, surf_depth}) #unsure of depths"
   ]
  },
  {
   "cell_type": "code",
   "execution_count": null,
   "metadata": {
    "collapsed": true,
    "jupyter": {
     "outputs_hidden": true
    }
   },
   "outputs": [],
   "source": [
    "stack.StackInfo.populate()\n",
    "stack.Quality.populate()\n",
    "stack.CorrectionChannel.insert1([121,8,1,1])#correct?\n",
    "stack.RasterCorrection.populate()\n",
    "stack.MotionCorrection.populate()\n",
    "stack.Stitching.populate()\n",
    "stack.CorrectedStack.populate()\n",
    "stack.PreprocessedStack.populate()#dj.conn.ping required\n",
    "# stack.Surface.populate() # did not populate\n",
    "stack.SegmentationTask.insert1([121,8,1,1,1,2,'soma'])#correct?"
   ]
  },
  {
   "cell_type": "code",
   "execution_count": null,
   "metadata": {
    "collapsed": true,
    "jupyter": {
     "outputs_hidden": true
    }
   },
   "outputs": [],
   "source": [
    "stack.Segmentation.populate()\n",
    "stack.RegistrationTask.insert1([121,8,1,1,,5])#correct?\n",
    "stack.Registration.populate()\n",
    "stack.FieldSegmentation.populate()\n",
    "stack.RegistrationOverTime.populate()\n",
    "stack.Drift.populate()\n",
    "stack.StackSet.populate()\n",
    "stack.Area.populate()"
   ]
  },
  {
   "cell_type": "markdown",
   "metadata": {},
   "source": [
    "\n"
   ]
  }
 ],
 "metadata": {
  "jupytext": {
   "formats": "ipynb,py"
  },
  "kernelspec": {
   "display_name": "Python 3",
   "language": "python",
   "name": "python3"
  },
  "language_info": {
   "codemirror_mode": {
    "name": "ipython",
    "version": 3
   },
   "file_extension": ".py",
   "mimetype": "text/x-python",
   "name": "python",
   "nbconvert_exporter": "python",
   "pygments_lexer": "ipython3",
   "version": "3.6.8"
  }
 },
 "nbformat": 4,
 "nbformat_minor": 4
}