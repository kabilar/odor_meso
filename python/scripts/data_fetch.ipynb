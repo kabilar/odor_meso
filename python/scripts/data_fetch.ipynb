{
 "cells": [
  {
   "cell_type": "markdown",
   "metadata": {},
   "source": [
    "# Fetch data from AT database for ingestion on `jr-compute001`"
   ]
  },
  {
   "cell_type": "code",
   "execution_count": 1,
   "metadata": {},
   "outputs": [],
   "source": [
    "import datajoint as dj\n",
    "import pickle\n",
    "import lzma\n",
    "import os"
   ]
  },
  {
   "cell_type": "code",
   "execution_count": 33,
   "metadata": {},
   "outputs": [],
   "source": [
    "dj.config['database.prefix'] = ''"
   ]
  },
  {
   "cell_type": "code",
   "execution_count": 3,
   "metadata": {},
   "outputs": [],
   "source": [
    "# animal_id  = 1571\n",
    "# session    = 1\n",
    "# scan_idx   = 1\n",
    "\n",
    "# animal_id  = 121\n",
    "# session    = 7\n",
    "# scan_idx   = 1\n",
    "\n",
    "animal_id  = 122          # Animal with multiple z planes to be stitched\n",
    "session    = 4\n",
    "scan_idx   = 5\n",
    "\n",
    "# animal_id  = 14864\n",
    "# segmentation_method = 2"
   ]
  },
  {
   "cell_type": "code",
   "execution_count": 4,
   "metadata": {},
   "outputs": [],
   "source": [
    "directory = f'{os.environ.get(\"INGESTION_STORAGE\")}/animal_id_{animal_id}/'\n",
    "if not os.path.exists(directory):\n",
    "    os.mkdir(directory)\n",
    "\n",
    "def save_data(filename, data):\n",
    "     with lzma.open(directory + filename, \"wb\") as handle:\n",
    "          pickle.dump(data, handle)"
   ]
  },
  {
   "cell_type": "code",
   "execution_count": 5,
   "metadata": {},
   "outputs": [
    {
     "name": "stdout",
     "output_type": "stream",
     "text": [
      "Connecting kabilar@at-database.ad.bcm.edu:3306\n"
     ]
    }
   ],
   "source": [
    "# Instantiate modules\n",
    "mice       = dj.create_virtual_module('mice', 'common_mice')\n",
    "shared     = dj.create_virtual_module('shared', 'pipeline_shared')\n",
    "experiment = dj.create_virtual_module('experiment', 'pipeline_experiment')\n",
    "odor       = dj.create_virtual_module('odor', 'pipeline_odor')\n",
    "meso       = dj.create_virtual_module('meso', 'pipeline_meso')\n",
    "pupil      = dj.create_virtual_module('eye', 'pipeline_eye')"
   ]
  },
  {
   "cell_type": "markdown",
   "metadata": {},
   "source": [
    "# Fetch data"
   ]
  },
  {
   "cell_type": "code",
   "execution_count": 17,
   "metadata": {},
   "outputs": [],
   "source": [
    "mice_Mice                    = (mice.Mice & f'animal_id={animal_id}').fetch(as_dict=True)"
   ]
  },
  {
   "cell_type": "code",
   "execution_count": 18,
   "metadata": {},
   "outputs": [],
   "source": [
    "shared_pipelineVersion       = shared.PipelineVersion.fetch(as_dict=True)"
   ]
  },
  {
   "cell_type": "code",
   "execution_count": 19,
   "metadata": {},
   "outputs": [],
   "source": [
    "experiment_Rig               = experiment.Rig.fetch(as_dict=True)\n",
    "experiment_Lens              = experiment.Lens.fetch(as_dict=True)\n",
    "experiment_Aim               = experiment.Aim.fetch(as_dict=True)\n",
    "experiment_Software          = experiment.Software.fetch(as_dict=True)\n",
    "experiment_Person            = experiment.Person.fetch(as_dict=True)\n",
    "experiment_Anesthesia        = experiment.Anesthesia.fetch(as_dict=True)\n",
    "experiment_BrainArea         = experiment.BrainArea.fetch(as_dict=True)\n",
    "experiment_Session           = (experiment.Session & f'animal_id={animal_id}').fetch(as_dict=True)\n",
    "experiment_Scan              = (experiment.Scan & f'animal_id={animal_id}').fetch(as_dict=True)\n",
    "experiment_Scan              = (experiment.Scan & f'animal_id={animal_id}' & f'scan_idx={scan_idx}').fetch(as_dict=True)\n",
    "experiment_Scan_EyeVideo     = (experiment.Scan.EyeVideo & f'animal_id={animal_id}' & f'scan_idx={scan_idx}').fetch(as_dict=True)\n",
    "experiment_Scan_BehaviorFile = (experiment.Scan.BehaviorFile & f'animal_id={animal_id}' & f'scan_idx={scan_idx}').fetch(as_dict=True)\n",
    "experiment_Scan_Laser        = (experiment.Scan.Laser & f'animal_id={animal_id}' & f'scan_idx={scan_idx}').fetch(as_dict=True)\n",
    "experiment_TreadmillSpecs    = experiment.TreadmillSpecs.fetch(as_dict=True)"
   ]
  },
  {
   "cell_type": "code",
   "execution_count": 6,
   "metadata": {},
   "outputs": [],
   "source": [
    "odor_Odorant                 = odor.Odorant.fetch(as_dict=True)\n",
    "odor_OdorSolution            = odor.OdorSolution.fetch(as_dict=True)\n",
    "odor_OdorSession             = (odor.OdorSession & f'animal_id={animal_id}').fetch(as_dict=True)\n",
    "odor_OdorConfig              = (odor.OdorConfig & f'animal_id={animal_id}').fetch(as_dict=True)\n",
    "odor_OdorRecording           = (odor.OdorRecording & f'animal_id={animal_id}').fetch(as_dict=True)\n",
    "odor_MesoMatch               = (odor.MesoMatch & f'animal_id={animal_id}').fetch(as_dict=True)"
   ]
  },
  {
   "cell_type": "code",
   "execution_count": 20,
   "metadata": {},
   "outputs": [],
   "source": [
    "meso_Version                 = meso.Version.fetch(as_dict=True)\n",
    "meso_ScanInfo                = (meso.ScanInfo & f'animal_id={animal_id}').fetch(as_dict=True)\n",
    "meso_CorrectionChannel       = (meso.CorrectionChannel & f'animal_id={animal_id}' & f'scan_idx={scan_idx}').fetch(as_dict=True)\n",
    "meso_SegmentationTask        = (meso.SegmentationTask & f'animal_id={animal_id}' & f'scan_idx={scan_idx}').fetch(as_dict=True)\n",
    "meso_Segmentation            = (meso.Segmentation & f'animal_id={animal_id}' & f'scan_idx={scan_idx}').fetch(as_dict=True)\n",
    "meso_Segmentation_Manual     = (meso.Segmentation.Manual & f'animal_id={animal_id}' & f'scan_idx={scan_idx}').fetch(as_dict=True)\n",
    "meso_Segmentation_Mask       = (meso.Segmentation.Mask & f'animal_id={animal_id}' & f'scan_idx={scan_idx}').fetch(as_dict=True)"
   ]
  },
  {
   "cell_type": "code",
   "execution_count": null,
   "metadata": {},
   "outputs": [],
   "source": [
    "# WIP\n",
    "# pupil_TrackingTask                      = (pupil.TrackingTask & f'animal_id={animal_id}' & f'scan_idx={scan_idx}').fetch(as_dict=True)\n",
    "# pupil_TrackingTask_ManualParameters     = (pupil.TrackingTask.ManualParameters & f'animal_id={animal_id}' & f'scan_idx={scan_idx}').fetch(as_dict=True)\n",
    "# pupil_TrackingTask_Ignore               = (pupil.TrackingTask.Ignore & f'animal_id={animal_id}' & f'scan_idx={scan_idx}').fetch(as_dict=True)\n",
    "# pupil_TrackingTask_Mask                 = (pupil.TrackingTask.Mask & f'animal_id={animal_id}' & f'scan_idx={scan_idx}').fetch(as_dict=True)\n",
    "# pupil_ManuallyTrackedContours           = (pupil.ManuallyTrackedContours & f'animal_id={animal_id}' & f'scan_idx={scan_idx}').fetch(as_dict=True)\n",
    "# pupil_ManuallyTrackedContours_Frame     = (pupil.ManuallyTrackedContours.Frame & f'animal_id={animal_id}' & f'scan_idx={scan_idx}').fetch(as_dict=True)\n",
    "# pupil_ManuallyTrackedContours_Parameter = (pupil.ManuallyTrackedContours.Parameter & f'animal_id={animal_id}' & f'scan_idx={scan_idx}').fetch(as_dict=True)\n",
    "# pupil_ConfigDeeplabcut                  = pupil.ConfigDeeplabcut.fetch(as_dict=True)"
   ]
  },
  {
   "cell_type": "markdown",
   "metadata": {},
   "source": [
    "# Save data"
   ]
  },
  {
   "cell_type": "code",
   "execution_count": 22,
   "metadata": {},
   "outputs": [],
   "source": [
    "save_data('mice.Mice.xz', mice_Mice)"
   ]
  },
  {
   "cell_type": "code",
   "execution_count": 23,
   "metadata": {},
   "outputs": [],
   "source": [
    "save_data('shared.PipelineVersion.xz', shared_pipelineVersion)"
   ]
  },
  {
   "cell_type": "code",
   "execution_count": 24,
   "metadata": {},
   "outputs": [],
   "source": [
    "save_data('experiment.Rig.xz', experiment_Rig)\n",
    "save_data('experiment.Lens.xz', experiment_Lens)\n",
    "save_data('experiment.Aim.xz', experiment_Aim)\n",
    "save_data('experiment.Software.xz', experiment_Software)\n",
    "save_data('experiment.Person.xz', experiment_Person)\n",
    "save_data('experiment.Anesthesia.xz', experiment_Anesthesia)\n",
    "save_data('experiment.BrainArea.xz', experiment_BrainArea)\n",
    "save_data('experiment.Session.xz', experiment_Session)\n",
    "save_data('experiment.Scan.xz', experiment_Scan)\n",
    "save_data('experiment.Scan.EyeVideo.xz', experiment_Scan_EyeVideo)\n",
    "save_data('experiment.Scan.BehaviorFile.xz', experiment_Scan_BehaviorFile)\n",
    "save_data('experiment.Scan.Laser.xz', experiment_Scan_Laser)\n",
    "save_data('experiment.TreadmillSpecs.xz', experiment_TreadmillSpecs)"
   ]
  },
  {
   "cell_type": "code",
   "execution_count": 7,
   "metadata": {},
   "outputs": [],
   "source": [
    "save_data('odor.Odorant.xz', odor_Odorant)\n",
    "save_data('odor.OdorSolution.xz', odor_OdorSolution)\n",
    "save_data('odor.OdorSession.xz', odor_OdorSession)\n",
    "save_data('odor.OdorConfig.xz', odor_OdorConfig)\n",
    "save_data('odor.OdorRecording.xz', odor_OdorRecording)\n",
    "save_data('odor.MesoMatch.xz', odor_MesoMatch)"
   ]
  },
  {
   "cell_type": "code",
   "execution_count": 25,
   "metadata": {},
   "outputs": [],
   "source": [
    "save_data('meso.Version.xz', meso_Version)\n",
    "save_data('meso.ScanInfo.xz', meso_ScanInfo)\n",
    "save_data('meso.CorrectionChannel.xz', meso_CorrectionChannel)\n",
    "save_data('meso.SegmentationTask.xz', meso_SegmentationTask)\n",
    "save_data('meso.Segmentation.xz', meso_Segmentation)\n",
    "save_data('meso.Segmentation.Manual.xz', meso_Segmentation_Manual)\n",
    "save_data('meso.Segmentation.Mask.xz', meso_Segmentation_Mask)"
   ]
  },
  {
   "cell_type": "code",
   "execution_count": null,
   "metadata": {},
   "outputs": [],
   "source": [
    "# WIP\n",
    "# save_data('pupil.TrackingTask.xz', pupil_TrackingTask)\n",
    "# save_data('pupil.TrackingTask.ManualParameters.xz', pupil_TrackingTask_ManualParameters)\n",
    "# save_data('pupil.TrackingTask.Ignore.xz', pupil_TrackingTask_Ignore)\n",
    "# save_data('pupil.TrackingTask.Mask.xz', pupil_TrackingTask_Mask)\n",
    "# save_data('pupil.ManuallyTrackedContours.xz', pupil_ManuallyTrackedContours)\n",
    "# save_data('pupil.ManuallyTrackedContours.Frame.xz', pupil_ManuallyTrackedContours_Frame)\n",
    "# save_data('pupil.ManuallyTrackedContours.Parameter.xz', pupil_ManuallyTrackedContours_Parameter)\n",
    "# save_data('pupil.ConfigDeeplabcut.xz', pupil_ConfigDeeplabcut)"
   ]
  },
  {
   "cell_type": "markdown",
   "metadata": {},
   "source": []
  }
 ],
 "metadata": {
  "kernelspec": {
   "display_name": "Python 3",
   "language": "python",
   "name": "python3"
  },
  "language_info": {
   "codemirror_mode": {
    "name": "ipython",
    "version": 3
   },
   "file_extension": ".py",
   "mimetype": "text/x-python",
   "name": "python",
   "nbconvert_exporter": "python",
   "pygments_lexer": "ipython3",
   "version": "3.6.8"
  }
 },
 "nbformat": 4,
 "nbformat_minor": 4
}
